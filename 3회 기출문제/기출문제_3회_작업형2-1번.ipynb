{
 "cells": [
  {
   "cell_type": "markdown",
   "id": "cec48929",
   "metadata": {},
   "source": [
    "# 작업형 1-1번\n",
    "\n",
    "## 다음은 Boston Housing 데이터셋이다. 데이터 중 컬럼들의 결측값을 전부 제거 후 데이터를 처음부터 순서대로 70%를 추출하여  변수 중 'tax'의  사분위수 Q1값을 구하시오."
   ]
  },
  {
   "cell_type": "code",
   "execution_count": 1,
   "id": "9a135681",
   "metadata": {},
   "outputs": [
    {
     "name": "stdout",
     "output_type": "stream",
     "text": [
      "264.0\n"
     ]
    }
   ],
   "source": [
    "import pandas as pd\n",
    "\n",
    "a=pd.read_csv('3rd_boston_housing.csv')\n",
    "# print(a.info())\n",
    "b=a.dropna()\n",
    "b=b.iloc[:int(len(a)*0.7)]\n",
    "answer=b['tax'].describe()['25%']\n",
    "print(answer)"
   ]
  },
  {
   "cell_type": "code",
   "execution_count": null,
   "id": "33c58b24",
   "metadata": {},
   "outputs": [],
   "source": []
  }
 ],
 "metadata": {
  "kernelspec": {
   "display_name": "Python 3",
   "language": "python",
   "name": "python3"
  },
  "language_info": {
   "codemirror_mode": {
    "name": "ipython",
    "version": 3
   },
   "file_extension": ".py",
   "mimetype": "text/x-python",
   "name": "python",
   "nbconvert_exporter": "python",
   "pygments_lexer": "ipython3",
   "version": "3.8.8"
  }
 },
 "nbformat": 4,
 "nbformat_minor": 5
}
