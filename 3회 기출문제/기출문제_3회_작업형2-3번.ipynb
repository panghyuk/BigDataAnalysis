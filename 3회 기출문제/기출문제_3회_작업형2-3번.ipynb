{
 "cells": [
  {
   "cell_type": "markdown",
   "id": "6f25c65d",
   "metadata": {},
   "source": [
    "# 작업형 1-3번\n",
    "\n",
    "## 다음 데이터셋의 컬럼 중 빈값 또는 결측치를 확인하여 결측치의 비율이 높은 변수명을 출력하시오"
   ]
  },
  {
   "cell_type": "code",
   "execution_count": 2,
   "id": "a54cd033",
   "metadata": {},
   "outputs": [
    {
     "name": "stdout",
     "output_type": "stream",
     "text": [
      "Age\n"
     ]
    }
   ],
   "source": [
    "import pandas as pd\n",
    "\n",
    "data=pd.read_csv('3rd_titanic.csv')\n",
    "# print(data.info())\n",
    "print((data.isnull().sum()/len(data)).sort_values(ascending=False).index[0])"
   ]
  },
  {
   "cell_type": "code",
   "execution_count": null,
   "id": "82ccf320",
   "metadata": {},
   "outputs": [],
   "source": []
  }
 ],
 "metadata": {
  "kernelspec": {
   "display_name": "Python 3",
   "language": "python",
   "name": "python3"
  },
  "language_info": {
   "codemirror_mode": {
    "name": "ipython",
    "version": 3
   },
   "file_extension": ".py",
   "mimetype": "text/x-python",
   "name": "python",
   "nbconvert_exporter": "python",
   "pygments_lexer": "ipython3",
   "version": "3.8.8"
  }
 },
 "nbformat": 4,
 "nbformat_minor": 5
}
