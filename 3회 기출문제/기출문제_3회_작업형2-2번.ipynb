{
 "cells": [
  {
   "cell_type": "markdown",
   "id": "96eafef1",
   "metadata": {},
   "source": [
    "# 작업형 1-2번\n",
    "\n",
    "## 다음은 국가별 국내 입국자 수 데이터이다. 2000년도 전체 입국자 평균보다 국내에 많이 입국한 국가의 수를 산출하시오"
   ]
  },
  {
   "cell_type": "code",
   "execution_count": 14,
   "id": "06d92536",
   "metadata": {},
   "outputs": [
    {
     "name": "stdout",
     "output_type": "stream",
     "text": [
      "7\n"
     ]
    }
   ],
   "source": [
    "import pandas as pd\n",
    "\n",
    "data=pd.read_csv('3rd_tour.csv', index_col='year', encoding='euc-kr')\n",
    "mean=data.loc[2000].mean()\n",
    "print(sum(data.loc[2000, :]>mean))"
   ]
  },
  {
   "cell_type": "code",
   "execution_count": null,
   "id": "4dde58b4",
   "metadata": {},
   "outputs": [],
   "source": []
  }
 ],
 "metadata": {
  "kernelspec": {
   "display_name": "Python 3",
   "language": "python",
   "name": "python3"
  },
  "language_info": {
   "codemirror_mode": {
    "name": "ipython",
    "version": 3
   },
   "file_extension": ".py",
   "mimetype": "text/x-python",
   "name": "python",
   "nbconvert_exporter": "python",
   "pygments_lexer": "ipython3",
   "version": "3.8.8"
  }
 },
 "nbformat": 4,
 "nbformat_minor": 5
}
