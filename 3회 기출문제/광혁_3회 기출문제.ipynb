{
 "cells": [
  {
   "cell_type": "markdown",
   "id": "08b2ae2f",
   "metadata": {},
   "source": [
    "## 1-1 Boston Housing 데이터 셋이다. 데이터 컬럼들의 결측값을 전부 제거 후 데이터를 처음부터 순서대로 70% 추출하여 변수 중 'tax'의 사분위 수 Q1 값을 구하시오"
   ]
  },
  {
   "cell_type": "code",
   "execution_count": 6,
   "id": "d2677d70",
   "metadata": {},
   "outputs": [
    {
     "name": "stdout",
     "output_type": "stream",
     "text": [
      "<class 'pandas.core.frame.DataFrame'>\n",
      "RangeIndex: 506 entries, 0 to 505\n",
      "Data columns (total 14 columns):\n",
      " #   Column  Non-Null Count  Dtype  \n",
      "---  ------  --------------  -----  \n",
      " 0   crim    506 non-null    float64\n",
      " 1   zn      506 non-null    float64\n",
      " 2   indus   506 non-null    float64\n",
      " 3   chas    506 non-null    int64  \n",
      " 4   nox     506 non-null    float64\n",
      " 5   rm      506 non-null    float64\n",
      " 6   age     506 non-null    float64\n",
      " 7   dis     506 non-null    float64\n",
      " 8   rad     506 non-null    int64  \n",
      " 9   tax     506 non-null    int64  \n",
      " 10  pratio  506 non-null    float64\n",
      " 11  b       506 non-null    float64\n",
      " 12  lstat   506 non-null    float64\n",
      " 13  medv    506 non-null    float64\n",
      "dtypes: float64(11), int64(3)\n",
      "memory usage: 55.5 KB\n"
     ]
    }
   ],
   "source": [
    "import pandas as pd\n",
    "df = pd.read_csv('data/boston_housing.csv')\n",
    "df.info()"
   ]
  },
  {
   "cell_type": "code",
   "execution_count": 7,
   "id": "5c2e8d17",
   "metadata": {},
   "outputs": [
    {
     "name": "stdout",
     "output_type": "stream",
     "text": [
      "<class 'pandas.core.frame.DataFrame'>\n",
      "Int64Index: 506 entries, 0 to 505\n",
      "Data columns (total 14 columns):\n",
      " #   Column  Non-Null Count  Dtype  \n",
      "---  ------  --------------  -----  \n",
      " 0   crim    506 non-null    float64\n",
      " 1   zn      506 non-null    float64\n",
      " 2   indus   506 non-null    float64\n",
      " 3   chas    506 non-null    int64  \n",
      " 4   nox     506 non-null    float64\n",
      " 5   rm      506 non-null    float64\n",
      " 6   age     506 non-null    float64\n",
      " 7   dis     506 non-null    float64\n",
      " 8   rad     506 non-null    int64  \n",
      " 9   tax     506 non-null    int64  \n",
      " 10  pratio  506 non-null    float64\n",
      " 11  b       506 non-null    float64\n",
      " 12  lstat   506 non-null    float64\n",
      " 13  medv    506 non-null    float64\n",
      "dtypes: float64(11), int64(3)\n",
      "memory usage: 59.3 KB\n"
     ]
    }
   ],
   "source": [
    "df.dropna(inplace = True)\n",
    "df.info()"
   ]
  },
  {
   "cell_type": "code",
   "execution_count": 9,
   "id": "5cc07702",
   "metadata": {},
   "outputs": [
    {
     "name": "stdout",
     "output_type": "stream",
     "text": [
      "<class 'pandas.core.frame.DataFrame'>\n",
      "Int64Index: 354 entries, 0 to 353\n",
      "Data columns (total 14 columns):\n",
      " #   Column  Non-Null Count  Dtype  \n",
      "---  ------  --------------  -----  \n",
      " 0   crim    354 non-null    float64\n",
      " 1   zn      354 non-null    float64\n",
      " 2   indus   354 non-null    float64\n",
      " 3   chas    354 non-null    int64  \n",
      " 4   nox     354 non-null    float64\n",
      " 5   rm      354 non-null    float64\n",
      " 6   age     354 non-null    float64\n",
      " 7   dis     354 non-null    float64\n",
      " 8   rad     354 non-null    int64  \n",
      " 9   tax     354 non-null    int64  \n",
      " 10  pratio  354 non-null    float64\n",
      " 11  b       354 non-null    float64\n",
      " 12  lstat   354 non-null    float64\n",
      " 13  medv    354 non-null    float64\n",
      "dtypes: float64(11), int64(3)\n",
      "memory usage: 41.5 KB\n"
     ]
    }
   ],
   "source": [
    "new_df = df.iloc[:int(len(df) * 0.7)]\n",
    "new_df.info()"
   ]
  },
  {
   "cell_type": "code",
   "execution_count": 10,
   "id": "edd55613",
   "metadata": {},
   "outputs": [
    {
     "name": "stdout",
     "output_type": "stream",
     "text": [
      "264.0\n"
     ]
    }
   ],
   "source": [
    "# sol.1\n",
    "ans = new_df['tax'].quantile(0.25)\n",
    "print(ans)"
   ]
  },
  {
   "cell_type": "code",
   "execution_count": 13,
   "id": "7c646b23",
   "metadata": {},
   "outputs": [
    {
     "name": "stdout",
     "output_type": "stream",
     "text": [
      "264.0\n"
     ]
    }
   ],
   "source": [
    "# sol.2\n",
    "ans = new_df['tax'].describe()['25%']\n",
    "print(ans)"
   ]
  },
  {
   "cell_type": "markdown",
   "id": "6f268bf1",
   "metadata": {},
   "source": [
    "# 1-2 다음은 국가별 입국자 수 데이터이다. 2000년도 전체 입국자 평균보다 국내에 많이 입국한 국가의 수를 산출하시오"
   ]
  },
  {
   "cell_type": "code",
   "execution_count": 19,
   "id": "c7e9758a",
   "metadata": {},
   "outputs": [
    {
     "data": {
      "text/html": [
       "<div>\n",
       "<style scoped>\n",
       "    .dataframe tbody tr th:only-of-type {\n",
       "        vertical-align: middle;\n",
       "    }\n",
       "\n",
       "    .dataframe tbody tr th {\n",
       "        vertical-align: top;\n",
       "    }\n",
       "\n",
       "    .dataframe thead th {\n",
       "        text-align: right;\n",
       "    }\n",
       "</style>\n",
       "<table border=\"1\" class=\"dataframe\">\n",
       "  <thead>\n",
       "    <tr style=\"text-align: right;\">\n",
       "      <th></th>\n",
       "      <th>중국</th>\n",
       "      <th>일본</th>\n",
       "      <th>대만</th>\n",
       "      <th>홍콩</th>\n",
       "      <th>필리핀</th>\n",
       "      <th>인도네시아</th>\n",
       "      <th>태국</th>\n",
       "      <th>베트남</th>\n",
       "      <th>인도</th>\n",
       "      <th>말레이시아</th>\n",
       "      <th>...</th>\n",
       "      <th>그리스</th>\n",
       "      <th>불가리아</th>\n",
       "      <th>덴마크</th>\n",
       "      <th>아일랜드</th>\n",
       "      <th>유럽 기타</th>\n",
       "      <th>오스트레일리아</th>\n",
       "      <th>뉴질랜드</th>\n",
       "      <th>오세아니아 기타</th>\n",
       "      <th>남아프리카공화국</th>\n",
       "      <th>아프리카 기타</th>\n",
       "    </tr>\n",
       "    <tr>\n",
       "      <th>year</th>\n",
       "      <th></th>\n",
       "      <th></th>\n",
       "      <th></th>\n",
       "      <th></th>\n",
       "      <th></th>\n",
       "      <th></th>\n",
       "      <th></th>\n",
       "      <th></th>\n",
       "      <th></th>\n",
       "      <th></th>\n",
       "      <th></th>\n",
       "      <th></th>\n",
       "      <th></th>\n",
       "      <th></th>\n",
       "      <th></th>\n",
       "      <th></th>\n",
       "      <th></th>\n",
       "      <th></th>\n",
       "      <th></th>\n",
       "      <th></th>\n",
       "      <th></th>\n",
       "    </tr>\n",
       "  </thead>\n",
       "  <tbody>\n",
       "    <tr>\n",
       "      <th>1995</th>\n",
       "      <td>178359</td>\n",
       "      <td>1667203</td>\n",
       "      <td>130147</td>\n",
       "      <td>100407</td>\n",
       "      <td>163228</td>\n",
       "      <td>37723</td>\n",
       "      <td>73770</td>\n",
       "      <td>16720</td>\n",
       "      <td>35668</td>\n",
       "      <td>31145</td>\n",
       "      <td>...</td>\n",
       "      <td>14591</td>\n",
       "      <td>3408</td>\n",
       "      <td>5409</td>\n",
       "      <td>1741</td>\n",
       "      <td>7216</td>\n",
       "      <td>27251</td>\n",
       "      <td>6499</td>\n",
       "      <td>1891</td>\n",
       "      <td>1838</td>\n",
       "      <td>11056</td>\n",
       "    </tr>\n",
       "    <tr>\n",
       "      <th>1996</th>\n",
       "      <td>199604</td>\n",
       "      <td>1526559</td>\n",
       "      <td>114729</td>\n",
       "      <td>77958</td>\n",
       "      <td>178045</td>\n",
       "      <td>46570</td>\n",
       "      <td>74162</td>\n",
       "      <td>16750</td>\n",
       "      <td>38585</td>\n",
       "      <td>34957</td>\n",
       "      <td>...</td>\n",
       "      <td>14142</td>\n",
       "      <td>3447</td>\n",
       "      <td>5797</td>\n",
       "      <td>2066</td>\n",
       "      <td>9688</td>\n",
       "      <td>30694</td>\n",
       "      <td>6942</td>\n",
       "      <td>2304</td>\n",
       "      <td>2058</td>\n",
       "      <td>9820</td>\n",
       "    </tr>\n",
       "    <tr>\n",
       "      <th>1997</th>\n",
       "      <td>214244</td>\n",
       "      <td>1676434</td>\n",
       "      <td>104144</td>\n",
       "      <td>96650</td>\n",
       "      <td>187235</td>\n",
       "      <td>53204</td>\n",
       "      <td>62374</td>\n",
       "      <td>14102</td>\n",
       "      <td>42934</td>\n",
       "      <td>36459</td>\n",
       "      <td>...</td>\n",
       "      <td>12255</td>\n",
       "      <td>3870</td>\n",
       "      <td>5479</td>\n",
       "      <td>2230</td>\n",
       "      <td>9079</td>\n",
       "      <td>34640</td>\n",
       "      <td>7718</td>\n",
       "      <td>2735</td>\n",
       "      <td>4042</td>\n",
       "      <td>9873</td>\n",
       "    </tr>\n",
       "    <tr>\n",
       "      <th>1998</th>\n",
       "      <td>210662</td>\n",
       "      <td>1954416</td>\n",
       "      <td>108880</td>\n",
       "      <td>229072</td>\n",
       "      <td>165272</td>\n",
       "      <td>36486</td>\n",
       "      <td>49973</td>\n",
       "      <td>11561</td>\n",
       "      <td>40606</td>\n",
       "      <td>42554</td>\n",
       "      <td>...</td>\n",
       "      <td>8730</td>\n",
       "      <td>3315</td>\n",
       "      <td>5661</td>\n",
       "      <td>2071</td>\n",
       "      <td>8181</td>\n",
       "      <td>31028</td>\n",
       "      <td>7355</td>\n",
       "      <td>2716</td>\n",
       "      <td>3986</td>\n",
       "      <td>11877</td>\n",
       "    </tr>\n",
       "    <tr>\n",
       "      <th>1999</th>\n",
       "      <td>316639</td>\n",
       "      <td>2184121</td>\n",
       "      <td>110563</td>\n",
       "      <td>234087</td>\n",
       "      <td>198583</td>\n",
       "      <td>47019</td>\n",
       "      <td>63679</td>\n",
       "      <td>16121</td>\n",
       "      <td>43829</td>\n",
       "      <td>48435</td>\n",
       "      <td>...</td>\n",
       "      <td>10878</td>\n",
       "      <td>2371</td>\n",
       "      <td>5607</td>\n",
       "      <td>2131</td>\n",
       "      <td>8829</td>\n",
       "      <td>33378</td>\n",
       "      <td>8390</td>\n",
       "      <td>2696</td>\n",
       "      <td>3987</td>\n",
       "      <td>14682</td>\n",
       "    </tr>\n",
       "    <tr>\n",
       "      <th>2000</th>\n",
       "      <td>442794</td>\n",
       "      <td>2472054</td>\n",
       "      <td>127120</td>\n",
       "      <td>200874</td>\n",
       "      <td>248737</td>\n",
       "      <td>59085</td>\n",
       "      <td>87885</td>\n",
       "      <td>21483</td>\n",
       "      <td>51369</td>\n",
       "      <td>59933</td>\n",
       "      <td>...</td>\n",
       "      <td>9899</td>\n",
       "      <td>6105</td>\n",
       "      <td>6140</td>\n",
       "      <td>2376</td>\n",
       "      <td>11201</td>\n",
       "      <td>39614</td>\n",
       "      <td>9890</td>\n",
       "      <td>4563</td>\n",
       "      <td>4113</td>\n",
       "      <td>14204</td>\n",
       "    </tr>\n",
       "    <tr>\n",
       "      <th>2001</th>\n",
       "      <td>482227</td>\n",
       "      <td>2377321</td>\n",
       "      <td>129410</td>\n",
       "      <td>204959</td>\n",
       "      <td>210975</td>\n",
       "      <td>57288</td>\n",
       "      <td>73163</td>\n",
       "      <td>20399</td>\n",
       "      <td>47657</td>\n",
       "      <td>55848</td>\n",
       "      <td>...</td>\n",
       "      <td>9038</td>\n",
       "      <td>7569</td>\n",
       "      <td>6063</td>\n",
       "      <td>2741</td>\n",
       "      <td>12040</td>\n",
       "      <td>44295</td>\n",
       "      <td>12086</td>\n",
       "      <td>3301</td>\n",
       "      <td>4850</td>\n",
       "      <td>13315</td>\n",
       "    </tr>\n",
       "    <tr>\n",
       "      <th>2002</th>\n",
       "      <td>539466</td>\n",
       "      <td>2320837</td>\n",
       "      <td>136921</td>\n",
       "      <td>179299</td>\n",
       "      <td>215848</td>\n",
       "      <td>65093</td>\n",
       "      <td>74000</td>\n",
       "      <td>23574</td>\n",
       "      <td>52725</td>\n",
       "      <td>82720</td>\n",
       "      <td>...</td>\n",
       "      <td>9068</td>\n",
       "      <td>8794</td>\n",
       "      <td>8024</td>\n",
       "      <td>6590</td>\n",
       "      <td>16411</td>\n",
       "      <td>49759</td>\n",
       "      <td>13355</td>\n",
       "      <td>3859</td>\n",
       "      <td>5153</td>\n",
       "      <td>14424</td>\n",
       "    </tr>\n",
       "    <tr>\n",
       "      <th>2003</th>\n",
       "      <td>512768</td>\n",
       "      <td>1802542</td>\n",
       "      <td>194586</td>\n",
       "      <td>156358</td>\n",
       "      <td>216627</td>\n",
       "      <td>62744</td>\n",
       "      <td>78243</td>\n",
       "      <td>28244</td>\n",
       "      <td>50212</td>\n",
       "      <td>90623</td>\n",
       "      <td>...</td>\n",
       "      <td>9257</td>\n",
       "      <td>10109</td>\n",
       "      <td>6567</td>\n",
       "      <td>3977</td>\n",
       "      <td>13773</td>\n",
       "      <td>48597</td>\n",
       "      <td>13875</td>\n",
       "      <td>3245</td>\n",
       "      <td>4186</td>\n",
       "      <td>13533</td>\n",
       "    </tr>\n",
       "    <tr>\n",
       "      <th>2004</th>\n",
       "      <td>627264</td>\n",
       "      <td>2443070</td>\n",
       "      <td>304908</td>\n",
       "      <td>155058</td>\n",
       "      <td>213434</td>\n",
       "      <td>61506</td>\n",
       "      <td>102588</td>\n",
       "      <td>33738</td>\n",
       "      <td>56966</td>\n",
       "      <td>93982</td>\n",
       "      <td>...</td>\n",
       "      <td>9014</td>\n",
       "      <td>10417</td>\n",
       "      <td>7388</td>\n",
       "      <td>4600</td>\n",
       "      <td>14507</td>\n",
       "      <td>57834</td>\n",
       "      <td>16049</td>\n",
       "      <td>4038</td>\n",
       "      <td>4325</td>\n",
       "      <td>13580</td>\n",
       "    </tr>\n",
       "    <tr>\n",
       "      <th>2005</th>\n",
       "      <td>710243</td>\n",
       "      <td>2440139</td>\n",
       "      <td>351438</td>\n",
       "      <td>166206</td>\n",
       "      <td>222655</td>\n",
       "      <td>62294</td>\n",
       "      <td>112724</td>\n",
       "      <td>45455</td>\n",
       "      <td>58560</td>\n",
       "      <td>96583</td>\n",
       "      <td>...</td>\n",
       "      <td>7833</td>\n",
       "      <td>10138</td>\n",
       "      <td>7989</td>\n",
       "      <td>4941</td>\n",
       "      <td>15984</td>\n",
       "      <td>63463</td>\n",
       "      <td>16419</td>\n",
       "      <td>5318</td>\n",
       "      <td>4534</td>\n",
       "      <td>13631</td>\n",
       "    </tr>\n",
       "    <tr>\n",
       "      <th>2006</th>\n",
       "      <td>896969</td>\n",
       "      <td>2338921</td>\n",
       "      <td>338162</td>\n",
       "      <td>142835</td>\n",
       "      <td>248262</td>\n",
       "      <td>62869</td>\n",
       "      <td>128555</td>\n",
       "      <td>46077</td>\n",
       "      <td>62531</td>\n",
       "      <td>89854</td>\n",
       "      <td>...</td>\n",
       "      <td>7746</td>\n",
       "      <td>10499</td>\n",
       "      <td>8409</td>\n",
       "      <td>4833</td>\n",
       "      <td>17950</td>\n",
       "      <td>68328</td>\n",
       "      <td>17502</td>\n",
       "      <td>5686</td>\n",
       "      <td>4756</td>\n",
       "      <td>16334</td>\n",
       "    </tr>\n",
       "    <tr>\n",
       "      <th>2007</th>\n",
       "      <td>1068925</td>\n",
       "      <td>2235963</td>\n",
       "      <td>335224</td>\n",
       "      <td>140138</td>\n",
       "      <td>263799</td>\n",
       "      <td>67450</td>\n",
       "      <td>146792</td>\n",
       "      <td>60262</td>\n",
       "      <td>68276</td>\n",
       "      <td>83049</td>\n",
       "      <td>...</td>\n",
       "      <td>6949</td>\n",
       "      <td>7674</td>\n",
       "      <td>8481</td>\n",
       "      <td>5903</td>\n",
       "      <td>19312</td>\n",
       "      <td>80528</td>\n",
       "      <td>21083</td>\n",
       "      <td>6218</td>\n",
       "      <td>6050</td>\n",
       "      <td>17574</td>\n",
       "    </tr>\n",
       "    <tr>\n",
       "      <th>2008</th>\n",
       "      <td>1167891</td>\n",
       "      <td>2378102</td>\n",
       "      <td>320244</td>\n",
       "      <td>160325</td>\n",
       "      <td>276710</td>\n",
       "      <td>81001</td>\n",
       "      <td>160687</td>\n",
       "      <td>76402</td>\n",
       "      <td>73130</td>\n",
       "      <td>83754</td>\n",
       "      <td>...</td>\n",
       "      <td>7080</td>\n",
       "      <td>6171</td>\n",
       "      <td>8764</td>\n",
       "      <td>6589</td>\n",
       "      <td>21543</td>\n",
       "      <td>96138</td>\n",
       "      <td>24435</td>\n",
       "      <td>6996</td>\n",
       "      <td>6910</td>\n",
       "      <td>19299</td>\n",
       "    </tr>\n",
       "    <tr>\n",
       "      <th>2009</th>\n",
       "      <td>1342317</td>\n",
       "      <td>3053311</td>\n",
       "      <td>380628</td>\n",
       "      <td>215769</td>\n",
       "      <td>271962</td>\n",
       "      <td>80988</td>\n",
       "      <td>190972</td>\n",
       "      <td>75978</td>\n",
       "      <td>72779</td>\n",
       "      <td>80105</td>\n",
       "      <td>...</td>\n",
       "      <td>7885</td>\n",
       "      <td>6220</td>\n",
       "      <td>7813</td>\n",
       "      <td>5991</td>\n",
       "      <td>21397</td>\n",
       "      <td>99153</td>\n",
       "      <td>23953</td>\n",
       "      <td>7340</td>\n",
       "      <td>7530</td>\n",
       "      <td>20971</td>\n",
       "    </tr>\n",
       "    <tr>\n",
       "      <th>2010</th>\n",
       "      <td>1875157</td>\n",
       "      <td>3023009</td>\n",
       "      <td>406352</td>\n",
       "      <td>228582</td>\n",
       "      <td>297452</td>\n",
       "      <td>95239</td>\n",
       "      <td>260718</td>\n",
       "      <td>90213</td>\n",
       "      <td>86547</td>\n",
       "      <td>113675</td>\n",
       "      <td>...</td>\n",
       "      <td>7975</td>\n",
       "      <td>7525</td>\n",
       "      <td>7978</td>\n",
       "      <td>6257</td>\n",
       "      <td>23098</td>\n",
       "      <td>112409</td>\n",
       "      <td>26973</td>\n",
       "      <td>6707</td>\n",
       "      <td>9633</td>\n",
       "      <td>24123</td>\n",
       "    </tr>\n",
       "  </tbody>\n",
       "</table>\n",
       "<p>16 rows × 57 columns</p>\n",
       "</div>"
      ],
      "text/plain": [
       "           중국       일본      대만      홍콩     필리핀  인도네시아      태국    베트남     인도  \\\n",
       "year                                                                          \n",
       "1995   178359  1667203  130147  100407  163228  37723   73770  16720  35668   \n",
       "1996   199604  1526559  114729   77958  178045  46570   74162  16750  38585   \n",
       "1997   214244  1676434  104144   96650  187235  53204   62374  14102  42934   \n",
       "1998   210662  1954416  108880  229072  165272  36486   49973  11561  40606   \n",
       "1999   316639  2184121  110563  234087  198583  47019   63679  16121  43829   \n",
       "2000   442794  2472054  127120  200874  248737  59085   87885  21483  51369   \n",
       "2001   482227  2377321  129410  204959  210975  57288   73163  20399  47657   \n",
       "2002   539466  2320837  136921  179299  215848  65093   74000  23574  52725   \n",
       "2003   512768  1802542  194586  156358  216627  62744   78243  28244  50212   \n",
       "2004   627264  2443070  304908  155058  213434  61506  102588  33738  56966   \n",
       "2005   710243  2440139  351438  166206  222655  62294  112724  45455  58560   \n",
       "2006   896969  2338921  338162  142835  248262  62869  128555  46077  62531   \n",
       "2007  1068925  2235963  335224  140138  263799  67450  146792  60262  68276   \n",
       "2008  1167891  2378102  320244  160325  276710  81001  160687  76402  73130   \n",
       "2009  1342317  3053311  380628  215769  271962  80988  190972  75978  72779   \n",
       "2010  1875157  3023009  406352  228582  297452  95239  260718  90213  86547   \n",
       "\n",
       "       말레이시아  ...    그리스   불가리아   덴마크  아일랜드  유럽 기타  오스트레일리아   뉴질랜드  오세아니아 기타  \\\n",
       "year          ...                                                              \n",
       "1995   31145  ...  14591   3408  5409  1741   7216    27251   6499      1891   \n",
       "1996   34957  ...  14142   3447  5797  2066   9688    30694   6942      2304   \n",
       "1997   36459  ...  12255   3870  5479  2230   9079    34640   7718      2735   \n",
       "1998   42554  ...   8730   3315  5661  2071   8181    31028   7355      2716   \n",
       "1999   48435  ...  10878   2371  5607  2131   8829    33378   8390      2696   \n",
       "2000   59933  ...   9899   6105  6140  2376  11201    39614   9890      4563   \n",
       "2001   55848  ...   9038   7569  6063  2741  12040    44295  12086      3301   \n",
       "2002   82720  ...   9068   8794  8024  6590  16411    49759  13355      3859   \n",
       "2003   90623  ...   9257  10109  6567  3977  13773    48597  13875      3245   \n",
       "2004   93982  ...   9014  10417  7388  4600  14507    57834  16049      4038   \n",
       "2005   96583  ...   7833  10138  7989  4941  15984    63463  16419      5318   \n",
       "2006   89854  ...   7746  10499  8409  4833  17950    68328  17502      5686   \n",
       "2007   83049  ...   6949   7674  8481  5903  19312    80528  21083      6218   \n",
       "2008   83754  ...   7080   6171  8764  6589  21543    96138  24435      6996   \n",
       "2009   80105  ...   7885   6220  7813  5991  21397    99153  23953      7340   \n",
       "2010  113675  ...   7975   7525  7978  6257  23098   112409  26973      6707   \n",
       "\n",
       "      남아프리카공화국  아프리카 기타  \n",
       "year                     \n",
       "1995      1838    11056  \n",
       "1996      2058     9820  \n",
       "1997      4042     9873  \n",
       "1998      3986    11877  \n",
       "1999      3987    14682  \n",
       "2000      4113    14204  \n",
       "2001      4850    13315  \n",
       "2002      5153    14424  \n",
       "2003      4186    13533  \n",
       "2004      4325    13580  \n",
       "2005      4534    13631  \n",
       "2006      4756    16334  \n",
       "2007      6050    17574  \n",
       "2008      6910    19299  \n",
       "2009      7530    20971  \n",
       "2010      9633    24123  \n",
       "\n",
       "[16 rows x 57 columns]"
      ]
     },
     "execution_count": 19,
     "metadata": {},
     "output_type": "execute_result"
    }
   ],
   "source": [
    "import pandas as pd\n",
    "df = pd.read_csv(\"data/tour.csv\", encoding = 'euc-kr', index_col = 'year')\n",
    "df"
   ]
  },
  {
   "cell_type": "code",
   "execution_count": 29,
   "id": "f5da0188",
   "metadata": {},
   "outputs": [
    {
     "data": {
      "text/plain": [
       "88494.63157894737"
      ]
     },
     "execution_count": 29,
     "metadata": {},
     "output_type": "execute_result"
    }
   ],
   "source": [
    "df_2000 = df.iloc[5,:]\n",
    "df_2000_mean = df_2000.mean()\n",
    "df_2000_mean"
   ]
  },
  {
   "cell_type": "code",
   "execution_count": 28,
   "id": "0421e219",
   "metadata": {},
   "outputs": [
    {
     "name": "stdout",
     "output_type": "stream",
     "text": [
      "7\n"
     ]
    }
   ],
   "source": [
    "# sol.1\n",
    "cnt = 0\n",
    "for i in range(len(df_2000)):\n",
    "    if df_2000[i] > df_2000_mean:\n",
    "        cnt += 1\n",
    "\n",
    "print(cnt)"
   ]
  },
  {
   "cell_type": "code",
   "execution_count": 35,
   "id": "83a185b8",
   "metadata": {},
   "outputs": [
    {
     "name": "stdout",
     "output_type": "stream",
     "text": [
      "7\n"
     ]
    }
   ],
   "source": [
    "# sol.2\n",
    "mean = df.loc[2000].mean()\n",
    "print(sum(df.loc[2000,:] > mean))"
   ]
  },
  {
   "cell_type": "markdown",
   "id": "3ea43e22",
   "metadata": {},
   "source": [
    "# 1-3 다음 데이터 셋의 컬럼 중 빈값 또는 결측치를 확인하여 결측치의 비율이 높은 변수명을 출력하시오"
   ]
  },
  {
   "cell_type": "code",
   "execution_count": 46,
   "id": "b619ce4b",
   "metadata": {},
   "outputs": [
    {
     "name": "stdout",
     "output_type": "stream",
     "text": [
      "<class 'pandas.core.frame.DataFrame'>\n",
      "RangeIndex: 418 entries, 0 to 417\n",
      "Data columns (total 10 columns):\n",
      " #   Column       Non-Null Count  Dtype  \n",
      "---  ------       --------------  -----  \n",
      " 0   PassengerId  418 non-null    int64  \n",
      " 1   Pclass       418 non-null    int64  \n",
      " 2   Name         418 non-null    object \n",
      " 3   Sex          418 non-null    object \n",
      " 4   Age          332 non-null    float64\n",
      " 5   SibSp        418 non-null    int64  \n",
      " 6   Parch        418 non-null    int64  \n",
      " 7   Ticket       418 non-null    object \n",
      " 8   Fare         417 non-null    float64\n",
      " 9   Embarked     418 non-null    object \n",
      "dtypes: float64(2), int64(4), object(4)\n",
      "memory usage: 32.8+ KB\n"
     ]
    }
   ],
   "source": [
    "import pandas as pd\n",
    "df = pd.read_csv(\"data/titanic.csv\")\n",
    "df.info()"
   ]
  },
  {
   "cell_type": "code",
   "execution_count": 47,
   "id": "d2e44fe4",
   "metadata": {},
   "outputs": [
    {
     "data": {
      "text/plain": [
       "PassengerId     0\n",
       "Pclass          0\n",
       "Name            0\n",
       "Sex             0\n",
       "Age            86\n",
       "SibSp           0\n",
       "Parch           0\n",
       "Ticket          0\n",
       "Fare            1\n",
       "Embarked        0\n",
       "dtype: int64"
      ]
     },
     "execution_count": 47,
     "metadata": {},
     "output_type": "execute_result"
    }
   ],
   "source": [
    "df.isnull().sum()"
   ]
  },
  {
   "cell_type": "code",
   "execution_count": 48,
   "id": "599023a8",
   "metadata": {},
   "outputs": [
    {
     "data": {
      "text/plain": [
       "PassengerId    0.000000\n",
       "Pclass         0.000000\n",
       "Name           0.000000\n",
       "Sex            0.000000\n",
       "Age            0.205742\n",
       "SibSp          0.000000\n",
       "Parch          0.000000\n",
       "Ticket         0.000000\n",
       "Fare           0.002392\n",
       "Embarked       0.000000\n",
       "dtype: float64"
      ]
     },
     "execution_count": 48,
     "metadata": {},
     "output_type": "execute_result"
    }
   ],
   "source": [
    "new_sr = df.isnull().sum() / len(df)\n",
    "new_sr"
   ]
  },
  {
   "cell_type": "code",
   "execution_count": 62,
   "id": "26087bc0",
   "metadata": {},
   "outputs": [
    {
     "name": "stdout",
     "output_type": "stream",
     "text": [
      "Age\n"
     ]
    }
   ],
   "source": [
    "# sol.1\n",
    "ans = new_sr.idxmax()\n",
    "print(ans)"
   ]
  },
  {
   "cell_type": "code",
   "execution_count": 61,
   "id": "541e2d89",
   "metadata": {},
   "outputs": [
    {
     "name": "stdout",
     "output_type": "stream",
     "text": [
      "Age\n"
     ]
    }
   ],
   "source": [
    "# sol.2\n",
    "data = pd.read_csv('data/titanic.csv')\n",
    "print((data.isnull().sum() / len(data)).sort_values(ascending = False).index[0])"
   ]
  },
  {
   "cell_type": "markdown",
   "id": "72260eea",
   "metadata": {},
   "source": [
    "# 2 아래 여행객 보험 데이터 셋을 참조하여 여행객의 정보들을 기반으로 여행보험 상품 가입 여부를 예측하시오. (ID와 예측치를 csv 파일로 저장하여 제출하시오)"
   ]
  },
  {
   "cell_type": "code",
   "execution_count": 125,
   "id": "4aec6cfa",
   "metadata": {},
   "outputs": [],
   "source": [
    "import pandas as pd\n",
    "from sklearn.ensemble import RandomForestClassifier\n",
    "from sklearn.model_selection import train_test_split\n",
    "from sklearn.preprocessing import MinMaxScaler\n",
    "pd.set_option('display.max_columns',None)"
   ]
  },
  {
   "cell_type": "code",
   "execution_count": 126,
   "id": "7dedd92f",
   "metadata": {},
   "outputs": [],
   "source": [
    "train = pd.read_csv('data/TravelInsurancePrediction_train.csv')\n",
    "test = pd.read_csv('data/TravelInsurancePrediction_test.csv')"
   ]
  },
  {
   "cell_type": "code",
   "execution_count": 127,
   "id": "c108e110",
   "metadata": {},
   "outputs": [
    {
     "name": "stdout",
     "output_type": "stream",
     "text": [
      "<class 'pandas.core.frame.DataFrame'>\n",
      "RangeIndex: 1501 entries, 0 to 1500\n",
      "Data columns (total 10 columns):\n",
      " #   Column               Non-Null Count  Dtype \n",
      "---  ------               --------------  ----- \n",
      " 0   ID                   1501 non-null   int64 \n",
      " 1   Age                  1501 non-null   int64 \n",
      " 2   Employment Type      1501 non-null   object\n",
      " 3   GraduateOrNot        1501 non-null   object\n",
      " 4   AnnualIncome         1501 non-null   int64 \n",
      " 5   FamilyMembers        1501 non-null   int64 \n",
      " 6   ChronicDiseases      1501 non-null   int64 \n",
      " 7   FrequentFlyer        1501 non-null   object\n",
      " 8   EverTravelledAbroad  1501 non-null   object\n",
      " 9   TravelInsurance      1501 non-null   int64 \n",
      "dtypes: int64(6), object(4)\n",
      "memory usage: 117.4+ KB\n"
     ]
    }
   ],
   "source": [
    "train.info()"
   ]
  },
  {
   "cell_type": "code",
   "execution_count": 128,
   "id": "199a4a90",
   "metadata": {},
   "outputs": [
    {
     "name": "stdout",
     "output_type": "stream",
     "text": [
      "(1501, 9) (1501, 1) (486, 9)\n"
     ]
    }
   ],
   "source": [
    "X_train = train.iloc[:,:-1]\n",
    "y_train = train[['TravelInsurance']]\n",
    "print(X_train.shape,y_train.shape,test.shape)"
   ]
  },
  {
   "cell_type": "code",
   "execution_count": 129,
   "id": "910c139f",
   "metadata": {},
   "outputs": [],
   "source": [
    "train_num = X_train[['Age','AnnualIncome','FamilyMembers','ChronicDiseases']]\n",
    "train_cat = X_train[['Employment Type','GraduateOrNot','FrequentFlyer','EverTravelledAbroad']]\n",
    "train_cat = pd.get_dummies(train_cat)"
   ]
  },
  {
   "cell_type": "code",
   "execution_count": 130,
   "id": "6318050b",
   "metadata": {},
   "outputs": [],
   "source": [
    "test_num = test[['Age','AnnualIncome','FamilyMembers','ChronicDiseases']]\n",
    "test_cat = test[['Employment Type','GraduateOrNot','FrequentFlyer','EverTravelledAbroad']]\n",
    "test_cat = pd.get_dummies(test_cat)"
   ]
  },
  {
   "cell_type": "code",
   "execution_count": 131,
   "id": "7c7482c5",
   "metadata": {},
   "outputs": [],
   "source": [
    "#\n",
    "train_cat, test_cat = train_cat.align(test_cat, join = 'inner', axis = 1)"
   ]
  },
  {
   "cell_type": "code",
   "execution_count": 132,
   "id": "8a6e24ae",
   "metadata": {},
   "outputs": [],
   "source": [
    "scale = MinMaxScaler()\n",
    "scale.fit(train_num)\n",
    "train_num_scaled = scale.transform(train_num)\n",
    "test_num_scaled = scale.transform(test_num)"
   ]
  },
  {
   "cell_type": "code",
   "execution_count": 133,
   "id": "d60e917b",
   "metadata": {},
   "outputs": [],
   "source": [
    "train_final = pd.concat([pd.DataFrame(train_num_scaled),train_cat],axis = 1)\n",
    "test_final = pd.concat([pd.DataFrame(test_num_scaled),test_cat],axis = 1)"
   ]
  },
  {
   "cell_type": "code",
   "execution_count": 134,
   "id": "d41a3397",
   "metadata": {},
   "outputs": [
    {
     "data": {
      "text/plain": [
       "0       0\n",
       "1       0\n",
       "2       1\n",
       "3       0\n",
       "4       0\n",
       "       ..\n",
       "1496    0\n",
       "1497    1\n",
       "1498    0\n",
       "1499    0\n",
       "1500    1\n",
       "Name: TravelInsurance, Length: 1501, dtype: int64"
      ]
     },
     "execution_count": 134,
     "metadata": {},
     "output_type": "execute_result"
    }
   ],
   "source": [
    "y = y_train['TravelInsurance']\n",
    "y"
   ]
  },
  {
   "cell_type": "code",
   "execution_count": 135,
   "id": "07d4c0c1",
   "metadata": {},
   "outputs": [
    {
     "data": {
      "text/plain": [
       "RandomForestClassifier()"
      ]
     },
     "execution_count": 135,
     "metadata": {},
     "output_type": "execute_result"
    }
   ],
   "source": [
    "model = RandomForestClassifier()\n",
    "model.fit(train_final,y)"
   ]
  },
  {
   "cell_type": "code",
   "execution_count": 141,
   "id": "0763e83a",
   "metadata": {},
   "outputs": [],
   "source": [
    "pred_y = model.predict(test_final)\n",
    "pred_test = model.predict_proba(test_final)\n",
    "pred_test_prob = pd.DataFrame(pred_test[:,1],columns = ['predict_prob'])"
   ]
  },
  {
   "cell_type": "code",
   "execution_count": 137,
   "id": "ca3d69ce",
   "metadata": {},
   "outputs": [],
   "source": [
    "final_pred = pd.concat([test['ID'],pred_test_prob],axis = 1)"
   ]
  },
  {
   "cell_type": "code",
   "execution_count": 138,
   "id": "316d4342",
   "metadata": {},
   "outputs": [
    {
     "name": "stdout",
     "output_type": "stream",
     "text": [
      "       ID  predict_prob\n",
      "0    1501      0.127244\n",
      "1    1502      0.000000\n",
      "2    1503      0.160357\n",
      "3    1504      0.115000\n",
      "4    1505      0.446990\n",
      "..    ...           ...\n",
      "481  1982      0.860000\n",
      "482  1983      0.810000\n",
      "483  1984      0.017143\n",
      "484  1985      0.720000\n",
      "485  1986      0.213536\n",
      "\n",
      "[486 rows x 2 columns]\n"
     ]
    }
   ],
   "source": [
    "print(final_pred)"
   ]
  },
  {
   "cell_type": "code",
   "execution_count": 139,
   "id": "bdbae336",
   "metadata": {},
   "outputs": [],
   "source": [
    "final_pred.to_csv(\"data/20220617.csv\", index = False)"
   ]
  }
 ],
 "metadata": {
  "kernelspec": {
   "display_name": "Python 3",
   "language": "python",
   "name": "python3"
  },
  "language_info": {
   "codemirror_mode": {
    "name": "ipython",
    "version": 3
   },
   "file_extension": ".py",
   "mimetype": "text/x-python",
   "name": "python",
   "nbconvert_exporter": "python",
   "pygments_lexer": "ipython3",
   "version": "3.8.8"
  }
 },
 "nbformat": 4,
 "nbformat_minor": 5
}
