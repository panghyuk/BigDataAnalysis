{
 "cells": [
  {
   "cell_type": "markdown",
   "id": "33d6f47f",
   "metadata": {},
   "source": [
    "# 아래 여행객 보험 데이터셋을 참조하여 여행객의 정보들을 기반으로 여행보험 상품 가입 여부 예측하시오. \n",
    "## (ID와 예측치를 csv 파일로 저장하여 제출하시오)"
   ]
  },
  {
   "cell_type": "code",
   "execution_count": 2,
   "id": "07ad7f10",
   "metadata": {},
   "outputs": [],
   "source": [
    "import pandas as pd\n",
    "\n",
    "test = pd.read_csv(\"data/TravelInsurancePrediction_test.csv\")\n",
    "train = pd.read_csv(\"data/TravelInsurancePrediction_train.csv\")\n",
    "X = train[['Age', 'Employment Type', 'GraduateOrNot', 'AnnualIncome', 'FamilyMembers', 'ChronicDiseases', 'FrequentFlyer', 'EverTravelledAbroad']]\n",
    "y=train[['TravelInsurance']]\n",
    "\n",
    "X_num = X[['Age', 'AnnualIncome', 'FamilyMembers', 'ChronicDiseases']]\n",
    "X_cat = X[['Employment Type', 'GraduateOrNot', 'FrequentFlyer', 'EverTravelledAbroad']]\n",
    "X_cat=pd.get_dummies(X_cat)\n",
    "\n",
    "test_num = test[['Age', 'AnnualIncome', 'FamilyMembers', 'ChronicDiseases']]\n",
    "test_cat = test[['Employment Type', 'GraduateOrNot', 'FrequentFlyer', 'EverTravelledAbroad']]\n",
    "test_cat = pd.get_dummies(test_cat)\n",
    "\n",
    "X_cat, test_cat = X_cat.align(test_cat, join='inner', axis=1)\n",
    "\n",
    "from sklearn.preprocessing import MinMaxScaler\n",
    "minmax=MinMaxScaler()\n",
    "minmax.fit(X_num)\n",
    "X_scaled=minmax.transform(X_num)\n",
    "test_scaled=minmax.transform(test_num)\n",
    "\n",
    "X_final = pd.concat([pd.DataFrame(X_scaled), X_cat], axis=1)\n",
    "test_final = pd.concat([pd.DataFrame(test_scaled), test_cat], axis=1)\n",
    "\n",
    "y = y['TravelInsurance']\n",
    "\n",
    "from sklearn.linear_model import LogisticRegression\n",
    "model=LogisticRegression()\n",
    "model.fit(X_final, y)\n",
    "\n",
    "pred_test=model.predict_proba(test_final)\n",
    "pred_test_prob = pd.DataFrame(pred_test[:, 1], columns = ['predict_prob'])\n",
    "final_predict = pd.concat([test['ID'], pred_test_prob], axis=1)\n",
    "# print(final_predict)\n",
    "final_predict.to_csv(\"20211204.csv\", index=False)"
   ]
  },
  {
   "cell_type": "code",
   "execution_count": 3,
   "id": "e2dbe37e",
   "metadata": {},
   "outputs": [
    {
     "data": {
      "text/plain": [
       "0.7621585609593604"
      ]
     },
     "execution_count": 3,
     "metadata": {},
     "output_type": "execute_result"
    }
   ],
   "source": [
    "model.score(X_final, y)"
   ]
  },
  {
   "cell_type": "code",
   "execution_count": null,
   "id": "afaee354",
   "metadata": {},
   "outputs": [],
   "source": []
  }
 ],
 "metadata": {
  "kernelspec": {
   "display_name": "Python 3",
   "language": "python",
   "name": "python3"
  },
  "language_info": {
   "codemirror_mode": {
    "name": "ipython",
    "version": 3
   },
   "file_extension": ".py",
   "mimetype": "text/x-python",
   "name": "python",
   "nbconvert_exporter": "python",
   "pygments_lexer": "ipython3",
   "version": "3.8.8"
  }
 },
 "nbformat": 4,
 "nbformat_minor": 5
}
