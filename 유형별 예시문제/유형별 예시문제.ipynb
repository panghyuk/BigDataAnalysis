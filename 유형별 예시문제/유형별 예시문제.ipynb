{
 "cells": [
  {
   "cell_type": "markdown",
   "id": "f192f71f",
   "metadata": {},
   "source": [
    "# 작업 1유형"
   ]
  },
  {
   "cell_type": "code",
   "execution_count": 1,
   "id": "492749ef",
   "metadata": {},
   "outputs": [],
   "source": [
    "import pandas as pd\n",
    "from sklearn.preprocessing import MinMaxScaler"
   ]
  },
  {
   "cell_type": "code",
   "execution_count": 2,
   "id": "5f6bf774",
   "metadata": {},
   "outputs": [
    {
     "data": {
      "text/html": [
       "<div>\n",
       "<style scoped>\n",
       "    .dataframe tbody tr th:only-of-type {\n",
       "        vertical-align: middle;\n",
       "    }\n",
       "\n",
       "    .dataframe tbody tr th {\n",
       "        vertical-align: top;\n",
       "    }\n",
       "\n",
       "    .dataframe thead th {\n",
       "        text-align: right;\n",
       "    }\n",
       "</style>\n",
       "<table border=\"1\" class=\"dataframe\">\n",
       "  <thead>\n",
       "    <tr style=\"text-align: right;\">\n",
       "      <th></th>\n",
       "      <th>mpg</th>\n",
       "      <th>cyl</th>\n",
       "      <th>disp</th>\n",
       "      <th>hp</th>\n",
       "      <th>drat</th>\n",
       "      <th>wt</th>\n",
       "      <th>qsec</th>\n",
       "      <th>vs</th>\n",
       "      <th>am</th>\n",
       "      <th>gear</th>\n",
       "      <th>carb</th>\n",
       "    </tr>\n",
       "  </thead>\n",
       "  <tbody>\n",
       "    <tr>\n",
       "      <th>Mazda RX4</th>\n",
       "      <td>21.0</td>\n",
       "      <td>6</td>\n",
       "      <td>160.0</td>\n",
       "      <td>110</td>\n",
       "      <td>3.90</td>\n",
       "      <td>2.620</td>\n",
       "      <td>16.46</td>\n",
       "      <td>0</td>\n",
       "      <td>1</td>\n",
       "      <td>4</td>\n",
       "      <td>4</td>\n",
       "    </tr>\n",
       "    <tr>\n",
       "      <th>Mazda RX4 Wag</th>\n",
       "      <td>21.0</td>\n",
       "      <td>6</td>\n",
       "      <td>160.0</td>\n",
       "      <td>110</td>\n",
       "      <td>3.90</td>\n",
       "      <td>2.875</td>\n",
       "      <td>17.02</td>\n",
       "      <td>0</td>\n",
       "      <td>1</td>\n",
       "      <td>4</td>\n",
       "      <td>4</td>\n",
       "    </tr>\n",
       "    <tr>\n",
       "      <th>Datsun 710</th>\n",
       "      <td>22.8</td>\n",
       "      <td>4</td>\n",
       "      <td>108.0</td>\n",
       "      <td>93</td>\n",
       "      <td>3.85</td>\n",
       "      <td>2.320</td>\n",
       "      <td>18.61</td>\n",
       "      <td>1</td>\n",
       "      <td>1</td>\n",
       "      <td>4</td>\n",
       "      <td>1</td>\n",
       "    </tr>\n",
       "    <tr>\n",
       "      <th>Hornet 4 Drive</th>\n",
       "      <td>21.4</td>\n",
       "      <td>6</td>\n",
       "      <td>258.0</td>\n",
       "      <td>110</td>\n",
       "      <td>3.08</td>\n",
       "      <td>3.215</td>\n",
       "      <td>19.44</td>\n",
       "      <td>1</td>\n",
       "      <td>0</td>\n",
       "      <td>3</td>\n",
       "      <td>1</td>\n",
       "    </tr>\n",
       "    <tr>\n",
       "      <th>Hornet Sportabout</th>\n",
       "      <td>18.7</td>\n",
       "      <td>8</td>\n",
       "      <td>360.0</td>\n",
       "      <td>175</td>\n",
       "      <td>3.15</td>\n",
       "      <td>3.440</td>\n",
       "      <td>17.02</td>\n",
       "      <td>0</td>\n",
       "      <td>0</td>\n",
       "      <td>3</td>\n",
       "      <td>2</td>\n",
       "    </tr>\n",
       "  </tbody>\n",
       "</table>\n",
       "</div>"
      ],
      "text/plain": [
       "                    mpg  cyl   disp   hp  drat     wt   qsec  vs  am  gear  \\\n",
       "Mazda RX4          21.0    6  160.0  110  3.90  2.620  16.46   0   1     4   \n",
       "Mazda RX4 Wag      21.0    6  160.0  110  3.90  2.875  17.02   0   1     4   \n",
       "Datsun 710         22.8    4  108.0   93  3.85  2.320  18.61   1   1     4   \n",
       "Hornet 4 Drive     21.4    6  258.0  110  3.08  3.215  19.44   1   0     3   \n",
       "Hornet Sportabout  18.7    8  360.0  175  3.15  3.440  17.02   0   0     3   \n",
       "\n",
       "                   carb  \n",
       "Mazda RX4             4  \n",
       "Mazda RX4 Wag         4  \n",
       "Datsun 710            1  \n",
       "Hornet 4 Drive        1  \n",
       "Hornet Sportabout     2  "
      ]
     },
     "execution_count": 2,
     "metadata": {},
     "output_type": "execute_result"
    }
   ],
   "source": [
    "df = pd.read_csv(\"data/mtcars.csv\", index_col = 0)\n",
    "df.head()"
   ]
  },
  {
   "cell_type": "code",
   "execution_count": 7,
   "id": "e5e44a74",
   "metadata": {
    "scrolled": true
   },
   "outputs": [
    {
     "data": {
      "text/plain": [
       "array([[0.45106383, 0.5       , 0.22175106, 0.204947  , 0.52534562,\n",
       "        0.28304781, 0.23333333, 0.        , 1.        , 0.5       ,\n",
       "        0.42857143],\n",
       "       [0.45106383, 0.5       , 0.22175106, 0.204947  , 0.52534562,\n",
       "        0.34824853, 0.3       , 0.        , 1.        , 0.5       ,\n",
       "        0.42857143],\n",
       "       [0.52765957, 0.        , 0.0920429 , 0.14487633, 0.50230415,\n",
       "        0.20634109, 0.48928571, 1.        , 1.        , 0.5       ,\n",
       "        0.        ],\n",
       "       [0.46808511, 0.5       , 0.46620105, 0.204947  , 0.14746544,\n",
       "        0.43518282, 0.58809524, 1.        , 0.        , 0.        ,\n",
       "        0.        ],\n",
       "       [0.35319149, 1.        , 0.72062859, 0.43462898, 0.1797235 ,\n",
       "        0.49271286, 0.3       , 0.        , 0.        , 0.        ,\n",
       "        0.14285714],\n",
       "       [0.32765957, 0.5       , 0.38388626, 0.18727915, 0.        ,\n",
       "        0.49782664, 0.68095238, 1.        , 0.        , 0.        ,\n",
       "        0.        ],\n",
       "       [0.16595745, 1.        , 0.72062859, 0.6819788 , 0.20737327,\n",
       "        0.52595244, 0.15952381, 0.        , 0.        , 0.        ,\n",
       "        0.42857143],\n",
       "       [0.59574468, 0.        , 0.1885757 , 0.03533569, 0.42857143,\n",
       "        0.42879059, 0.6547619 , 1.        , 0.        , 0.5       ,\n",
       "        0.14285714],\n",
       "       [0.52765957, 0.        , 0.17385882, 0.15194346, 0.53456221,\n",
       "        0.41856303, 1.        , 1.        , 0.        , 0.5       ,\n",
       "        0.14285714],\n",
       "       [0.37446809, 0.5       , 0.24070841, 0.25088339, 0.53456221,\n",
       "        0.49271286, 0.45238095, 1.        , 0.        , 0.5       ,\n",
       "        0.42857143],\n",
       "       [0.31489362, 0.5       , 0.24070841, 0.25088339, 0.53456221,\n",
       "        0.49271286, 0.52380952, 1.        , 0.        , 0.5       ,\n",
       "        0.42857143],\n",
       "       [0.25531915, 1.        , 0.51060115, 0.45229682, 0.14285714,\n",
       "        0.65379698, 0.3452381 , 0.        , 0.        , 0.        ,\n",
       "        0.28571429],\n",
       "       [0.29361702, 1.        , 0.51060115, 0.45229682, 0.14285714,\n",
       "        0.56686269, 0.36904762, 0.        , 0.        , 0.        ,\n",
       "        0.28571429],\n",
       "       [0.20425532, 1.        , 0.51060115, 0.45229682, 0.14285714,\n",
       "        0.57964715, 0.41666667, 0.        , 0.        , 0.        ,\n",
       "        0.28571429],\n",
       "       [0.        , 1.        , 1.        , 0.54063604, 0.07834101,\n",
       "        0.9555101 , 0.41428571, 0.        , 0.        , 0.        ,\n",
       "        0.42857143],\n",
       "       [0.        , 1.        , 0.97006735, 0.57597173, 0.11059908,\n",
       "        1.        , 0.3952381 , 0.        , 0.        , 0.        ,\n",
       "        0.42857143],\n",
       "       [0.18297872, 1.        , 0.9201796 , 0.62897527, 0.21658986,\n",
       "        0.97980056, 0.34761905, 0.        , 0.        , 0.        ,\n",
       "        0.42857143],\n",
       "       [0.93617021, 0.        , 0.01895735, 0.04946996, 0.60829493,\n",
       "        0.1756584 , 0.59166667, 1.        , 1.        , 0.5       ,\n",
       "        0.        ],\n",
       "       [0.85106383, 0.        , 0.01147418, 0.        , 1.        ,\n",
       "        0.02608029, 0.47857143, 1.        , 1.        , 0.5       ,\n",
       "        0.14285714],\n",
       "       [1.        , 0.        , 0.        , 0.0459364 , 0.67281106,\n",
       "        0.08233188, 0.64285714, 1.        , 1.        , 0.5       ,\n",
       "        0.        ],\n",
       "       [0.47234043, 0.        , 0.12222499, 0.1590106 , 0.43317972,\n",
       "        0.24341601, 0.65595238, 1.        , 0.        , 0.        ,\n",
       "        0.        ],\n",
       "       [0.21702128, 1.        , 0.61586431, 0.34628975, 0.        ,\n",
       "        0.51316799, 0.28214286, 0.        , 0.        , 0.        ,\n",
       "        0.14285714],\n",
       "       [0.20425532, 1.        , 0.58094288, 0.34628975, 0.1797235 ,\n",
       "        0.49143442, 0.33333333, 0.        , 0.        , 0.        ,\n",
       "        0.14285714],\n",
       "       [0.12340426, 1.        , 0.69568471, 0.6819788 , 0.44700461,\n",
       "        0.59498849, 0.10833333, 0.        , 0.        , 0.        ,\n",
       "        0.42857143],\n",
       "       [0.37446809, 1.        , 0.82040409, 0.43462898, 0.14746544,\n",
       "        0.59626694, 0.30357143, 0.        , 0.        , 0.        ,\n",
       "        0.14285714],\n",
       "       [0.71914894, 0.        , 0.01970566, 0.04946996, 0.60829493,\n",
       "        0.10790079, 0.52380952, 1.        , 1.        , 0.5       ,\n",
       "        0.        ],\n",
       "       [0.66382979, 0.        , 0.12272387, 0.13780919, 0.76958525,\n",
       "        0.16031705, 0.26190476, 0.        , 1.        , 1.        ,\n",
       "        0.14285714],\n",
       "       [0.85106383, 0.        , 0.0598653 , 0.2155477 , 0.46543779,\n",
       "        0.        , 0.28571429, 1.        , 1.        , 1.        ,\n",
       "        0.14285714],\n",
       "       [0.22978723, 1.        , 0.6981791 , 0.74911661, 0.67281106,\n",
       "        0.42367681, 0.        , 0.        , 1.        , 1.        ,\n",
       "        0.42857143],\n",
       "       [0.39574468, 0.5       , 0.18433525, 0.43462898, 0.39631336,\n",
       "        0.32140118, 0.11904762, 0.        , 1.        , 1.        ,\n",
       "        0.71428571],\n",
       "       [0.19574468, 1.        , 0.57345972, 1.        , 0.359447  ,\n",
       "        0.52595244, 0.01190476, 0.        , 1.        , 1.        ,\n",
       "        1.        ],\n",
       "       [0.46808511, 0.        , 0.12446994, 0.20141343, 0.62211982,\n",
       "        0.32395807, 0.48809524, 1.        , 1.        , 0.5       ,\n",
       "        0.14285714]])"
      ]
     },
     "execution_count": 7,
     "metadata": {},
     "output_type": "execute_result"
    }
   ],
   "source": [
    "scaler = MinMaxScaler()\n",
    "scaled = scaler.fit_transform(df)\n",
    "scaled"
   ]
  },
  {
   "cell_type": "code",
   "execution_count": 4,
   "id": "cbcebff8",
   "metadata": {},
   "outputs": [
    {
     "data": {
      "text/plain": [
       "array([0.23333333, 0.3       , 0.48928571, 0.58809524, 0.3       ,\n",
       "       0.68095238, 0.15952381, 0.6547619 , 1.        , 0.45238095,\n",
       "       0.52380952, 0.3452381 , 0.36904762, 0.41666667, 0.41428571,\n",
       "       0.3952381 , 0.34761905, 0.59166667, 0.47857143, 0.64285714,\n",
       "       0.65595238, 0.28214286, 0.33333333, 0.10833333, 0.30357143,\n",
       "       0.52380952, 0.26190476, 0.28571429, 0.        , 0.11904762,\n",
       "       0.01190476, 0.48809524])"
      ]
     },
     "execution_count": 4,
     "metadata": {},
     "output_type": "execute_result"
    }
   ],
   "source": [
    "qsec = scaled[:,6]\n",
    "qsec"
   ]
  },
  {
   "cell_type": "code",
   "execution_count": 5,
   "id": "0632bcf1",
   "metadata": {},
   "outputs": [
    {
     "data": {
      "text/plain": [
       "9"
      ]
     },
     "execution_count": 5,
     "metadata": {},
     "output_type": "execute_result"
    }
   ],
   "source": [
    "ans = qsec > 0.5\n",
    "sum(ans)"
   ]
  },
  {
   "cell_type": "code",
   "execution_count": 11,
   "id": "ffe95c0d",
   "metadata": {},
   "outputs": [
    {
     "name": "stdout",
     "output_type": "stream",
     "text": [
      "9\n"
     ]
    }
   ],
   "source": [
    "# sol.2\n",
    "import pandas as pd\n",
    "from sklearn.preprocessing import MinMaxScaler\n",
    "\n",
    "df = pd.read_csv(\"data/mtcars.csv\")\n",
    "# print(df.head())\n",
    "\n",
    "scaler = MinMaxScaler()\n",
    "df['qsec'] = scaler.fit_transform(df[['qsec']])\n",
    "# print(df.head())\n",
    "\n",
    "ans = len(df[df['qsec'] > 0.5])\n",
    "print(ans)"
   ]
  },
  {
   "cell_type": "markdown",
   "id": "029a0cb2",
   "metadata": {},
   "source": [
    "# 작업 2유형"
   ]
  },
  {
   "cell_type": "code",
   "execution_count": 20,
   "id": "a6a94df9",
   "metadata": {},
   "outputs": [],
   "source": [
    "import pandas as pd"
   ]
  },
  {
   "cell_type": "code",
   "execution_count": 15,
   "id": "6b1908e5",
   "metadata": {
    "scrolled": false
   },
   "outputs": [
    {
     "name": "stdout",
     "output_type": "stream",
     "text": [
      "<class 'pandas.core.frame.DataFrame'>\n",
      "RangeIndex: 3500 entries, 0 to 3499\n",
      "Data columns (total 10 columns):\n",
      " #   Column   Non-Null Count  Dtype  \n",
      "---  ------   --------------  -----  \n",
      " 0   cust_id  3500 non-null   int64  \n",
      " 1   총구매액     3500 non-null   int64  \n",
      " 2   최대구매액    3500 non-null   int64  \n",
      " 3   환불금액     1205 non-null   float64\n",
      " 4   주구매상품    3500 non-null   object \n",
      " 5   주구매지점    3500 non-null   object \n",
      " 6   내점일수     3500 non-null   int64  \n",
      " 7   내점당구매건수  3500 non-null   float64\n",
      " 8   주말방문비율   3500 non-null   float64\n",
      " 9   구매주기     3500 non-null   int64  \n",
      "dtypes: float64(3), int64(5), object(2)\n",
      "memory usage: 273.6+ KB\n",
      "None\n",
      "기타        595\n",
      "가공식품      546\n",
      "농산물       339\n",
      "화장품       264\n",
      "시티웨어      213\n",
      "디자이너      193\n",
      "수산품       153\n",
      "캐주얼       101\n",
      "명품        100\n",
      "섬유잡화       98\n",
      "골프         82\n",
      "스포츠        69\n",
      "일용잡화       64\n",
      "육류         57\n",
      "모피/피혁      57\n",
      "남성 캐주얼     55\n",
      "구두         54\n",
      "건강식품       47\n",
      "차/커피       44\n",
      "피혁잡화       40\n",
      "아동         40\n",
      "축산가공       35\n",
      "주방용품       32\n",
      "셔츠         30\n",
      "젓갈/반찬      29\n",
      "주방가전       26\n",
      "트래디셔널      23\n",
      "남성정장       22\n",
      "생활잡화       15\n",
      "주류         14\n",
      "가구         10\n",
      "커리어         9\n",
      "란제리/내의      8\n",
      "대형가전        8\n",
      "식기          7\n",
      "액세서리        5\n",
      "침구/수예       4\n",
      "통신/컴퓨터      3\n",
      "보석          3\n",
      "악기          2\n",
      "소형가전        2\n",
      "남성 트랜디      2\n",
      "Name: 주구매상품, dtype: int64\n",
      "본  점     1077\n",
      "잠실점       474\n",
      "분당점       436\n",
      "부산본점      245\n",
      "영등포점      241\n",
      "일산점       198\n",
      "강남점       145\n",
      "광주점       114\n",
      "노원점        90\n",
      "청량리점       86\n",
      "대전점        70\n",
      "미아점        69\n",
      "부평점        57\n",
      "동래점        49\n",
      "관악점        46\n",
      "인천점        34\n",
      "안양점        29\n",
      "포항점        11\n",
      "대구점         7\n",
      "센텀시티점       6\n",
      "울산점         6\n",
      "전주점         5\n",
      "창원점         4\n",
      "상인점         1\n",
      "Name: 주구매지점, dtype: int64\n"
     ]
    }
   ],
   "source": [
    "import pandas as pd\n",
    "\n",
    "X_train = pd.read_csv(\"data/X_train.csv\", encoding = 'euc-kr')\n",
    "X_test = pd.read_csv(\"data/X_test.csv\",encoding = 'euc-kr')\n",
    "y_train = pd.read_csv(\"data/y_train.csv\",encoding = 'euc-kr')\n",
    "\n",
    "print(X_train.info())\n",
    "print(X_train['주구매상품'].value_counts())\n",
    "print(X_train['주구매지점'].value_counts())\n",
    "train_dummies = pd.get_dummies(X_train)\n",
    "# train_dummies"
   ]
  },
  {
   "cell_type": "code",
   "execution_count": 41,
   "id": "9b87cb67",
   "metadata": {},
   "outputs": [
    {
     "name": "stdout",
     "output_type": "stream",
     "text": [
      "(3500, 10)\n",
      "(2482, 10)\n",
      "(3500, 72)\n",
      "(2482, 72)\n",
      "0.5592350746268657\n",
      "0.6315428067993366\n"
     ]
    }
   ],
   "source": [
    "X_train = pd.read_csv(\"data/X_train.csv\", encoding = 'cp949')\n",
    "X_test = pd.read_csv(\"data/X_test.csv\",encoding = 'cp949')\n",
    "y_train = pd.read_csv(\"data/y_train.csv\")\n",
    "\n",
    "print(X_train.shape)\n",
    "print(X_test.shape)\n",
    "\n",
    "from sklearn.preprocessing import MinMaxScaler\n",
    "from sklearn.ensemble import RandomForestClassifier\n",
    "from sklearn.metrics import roc_auc_score\n",
    "from sklearn.model_selection import train_test_split\n",
    "\n",
    "num = ['총구매액','최대구매액','환불금액','내점일수','내점당구매건수','주말방문비율','구매주기']\n",
    "cat = ['주구매상품','주구매지점']\n",
    "scaler = MinMaxScaler()\n",
    "X_train[num] = X_train[num].fillna(0)\n",
    "X_test[num] = X_test[num].fillna(0)\n",
    "X_train[num] = scaler.fit_transform(X_train[num])\n",
    "X_test[num] = scaler.transform(X_test[num])\n",
    "# X_train = X_train.drop('cust_id',axis = 1)\n",
    "# X_test = X_test.drop('cust_id',axis = 1)\n",
    "\n",
    "train_cat = pd.get_dummies(X_train[cat])\n",
    "test_cat = pd.get_dummies(X_test[cat])\n",
    "train_cat, test_cat = train_cat.align(test_cat, join = 'inner', axis = 1) # train/test 칼럼 동일하게\n",
    "\n",
    "X_train = pd.concat([X_train[num],train_cat],axis = 1)\n",
    "X_test = pd.concat([X_test[num],test_cat],axis = 1)\n",
    "\n",
    "y = y_train['gender']\n",
    "print(X_train.shape)\n",
    "print(X_test.shape)\n",
    "\n",
    "X_tr,X_val,y_tr,y_val = train_test_split(X_train,y,test_size = 0.2, random_state = 2022)\n",
    "\n",
    "model = RandomForestClassifier()\n",
    "model.fit(X_tr,y_tr)\n",
    "pred = model.predict(X_val)\n",
    "pred_proba = model.predict_proba(X_val)[:,1]\n",
    "print(roc_auc_score(y_val,pred))\n",
    "print(roc_auc_score(y_val,pred_proba))\n",
    "\n",
    "pred_final = model.predict(X_test)\n",
    "pred_proba_final = model.predict_proba(X_test)"
   ]
  },
  {
   "cell_type": "code",
   "execution_count": 30,
   "id": "79a049fd",
   "metadata": {},
   "outputs": [],
   "source": [
    "X_train = pd.read_csv(\"data/X_train.csv\", encoding = 'cp949')\n",
    "X_test = pd.read_csv(\"data/X_test.csv\",encoding = 'cp949')\n",
    "y_train = pd.read_csv(\"data/y_train.csv\")"
   ]
  },
  {
   "cell_type": "code",
   "execution_count": 25,
   "id": "f4d875cf",
   "metadata": {},
   "outputs": [
    {
     "name": "stdout",
     "output_type": "stream",
     "text": [
      "<class 'pandas.core.frame.DataFrame'>\n",
      "RangeIndex: 3500 entries, 0 to 3499\n",
      "Data columns (total 10 columns):\n",
      " #   Column   Non-Null Count  Dtype  \n",
      "---  ------   --------------  -----  \n",
      " 0   cust_id  3500 non-null   int64  \n",
      " 1   총구매액     3500 non-null   int64  \n",
      " 2   최대구매액    3500 non-null   int64  \n",
      " 3   환불금액     1205 non-null   float64\n",
      " 4   주구매상품    3500 non-null   object \n",
      " 5   주구매지점    3500 non-null   object \n",
      " 6   내점일수     3500 non-null   int64  \n",
      " 7   내점당구매건수  3500 non-null   float64\n",
      " 8   주말방문비율   3500 non-null   float64\n",
      " 9   구매주기     3500 non-null   int64  \n",
      "dtypes: float64(3), int64(5), object(2)\n",
      "memory usage: 273.6+ KB\n"
     ]
    }
   ],
   "source": [
    "X_train.info()"
   ]
  },
  {
   "cell_type": "code",
   "execution_count": 5,
   "id": "002f9302",
   "metadata": {},
   "outputs": [],
   "source": [
    "# train 데이터\n",
    "X_num = X_train[['총구매액','최대구매액','환불금액','내점일수','내점당구매건수','주말방문비율','구매주기']]\n",
    "X_num = X_num.fillna(0)\n",
    "X_cat = X_train[['주구매상품','주구매지점']]\n",
    "X_cat = pd.get_dummies(X_cat)"
   ]
  },
  {
   "cell_type": "code",
   "execution_count": 6,
   "id": "ba2fb004",
   "metadata": {},
   "outputs": [],
   "source": [
    "# test 데이터\n",
    "test_num = X_test[['총구매액','최대구매액','환불금액','내점일수','내점당구매건수','주말방문비율','구매주기']]\n",
    "test_num = test_num.fillna(0)\n",
    "test_cat = X_test[['주구매상품','주구매지점']]\n",
    "test_cat = pd.get_dummies(test_cat)"
   ]
  },
  {
   "cell_type": "code",
   "execution_count": 55,
   "id": "81cf1317",
   "metadata": {},
   "outputs": [],
   "source": [
    "X_cat, test_cat = X_cat.align(test_cat, join = 'inner', axis = 1)"
   ]
  },
  {
   "cell_type": "code",
   "execution_count": 10,
   "id": "c5b7692d",
   "metadata": {},
   "outputs": [],
   "source": [
    "from sklearn.preprocessing import MinMaxScaler\n",
    "scaler = MinMaxScaler()\n",
    "scaler.fit(X_num)\n",
    "X_num = scaler.transform(X_num)\n",
    "test_num = scaler.transform(test_num)"
   ]
  },
  {
   "cell_type": "code",
   "execution_count": 11,
   "id": "36b1fb16",
   "metadata": {},
   "outputs": [],
   "source": [
    "X_final = pd.concat([pd.DataFrame(X_scaled),X_cat],axis = 1)\n",
    "test_final = pd.concat([pd.DataFrame(test_scaled),test_cat],axis = 1)"
   ]
  },
  {
   "cell_type": "code",
   "execution_count": 58,
   "id": "a40a8528",
   "metadata": {},
   "outputs": [],
   "source": [
    "y = y_train['gender']"
   ]
  },
  {
   "cell_type": "code",
   "execution_count": 59,
   "id": "a86022f2",
   "metadata": {},
   "outputs": [
    {
     "data": {
      "text/plain": [
       "LogisticRegression()"
      ]
     },
     "execution_count": 59,
     "metadata": {},
     "output_type": "execute_result"
    }
   ],
   "source": [
    "from sklearn.linear_model import LogisticRegression\n",
    "model = LogisticRegression()\n",
    "model.fit(X_final, y)"
   ]
  },
  {
   "cell_type": "code",
   "execution_count": 62,
   "id": "5e8149bb",
   "metadata": {},
   "outputs": [
    {
     "name": "stdout",
     "output_type": "stream",
     "text": [
      "      cust_id    gender\n",
      "0        3500  0.545627\n",
      "1        3501  0.156078\n",
      "2        3502  0.205614\n",
      "3        3503  0.354606\n",
      "4        3504  0.432065\n",
      "...       ...       ...\n",
      "2477     5977  0.535992\n",
      "2478     5978  0.562554\n",
      "2479     5979  0.750804\n",
      "2480     5980  0.472934\n",
      "2481     5981  0.467446\n",
      "\n",
      "[2482 rows x 2 columns]\n"
     ]
    }
   ],
   "source": [
    "# test 예측\n",
    "pred_test = model.predict_proba(test_final)\n",
    "pred_test_prob = pd.DataFrame(pred_test[:,1],columns = ['gender'])\n",
    "final_predict = pd.concat([X_test['cust_id'], pred_test_prob], axis = 1)\n",
    "print(final_predict)\n",
    "final_predict.to_csv(\"data/20220616.csv\", index = False)"
   ]
  },
  {
   "cell_type": "code",
   "execution_count": 63,
   "id": "7ceff41f",
   "metadata": {},
   "outputs": [
    {
     "data": {
      "text/plain": [
       "array([[0.45437331, 0.54562669],\n",
       "       [0.84392193, 0.15607807],\n",
       "       [0.79438631, 0.20561369],\n",
       "       ...,\n",
       "       [0.24919634, 0.75080366],\n",
       "       [0.52706634, 0.47293366],\n",
       "       [0.53255446, 0.46744554]])"
      ]
     },
     "execution_count": 63,
     "metadata": {},
     "output_type": "execute_result"
    }
   ],
   "source": [
    "pred_test"
   ]
  },
  {
   "cell_type": "code",
   "execution_count": 20,
   "id": "86ad347a",
   "metadata": {},
   "outputs": [
    {
     "name": "stdout",
     "output_type": "stream",
     "text": [
      "0    2184\n",
      "1    1316\n",
      "Name: gender, dtype: int64\n",
      "0.6911428571428572\n"
     ]
    }
   ],
   "source": [
    "# sol.2\n",
    "import pandas as pd\n",
    "\n",
    "X_train = pd.read_csv(\"data/X_train.csv\", encoding = 'euc-kr')\n",
    "X_test = pd.read_csv(\"data/X_test.csv\",encoding = 'euc-kr')\n",
    "y_train = pd.read_csv(\"data/y_train.csv\")\n",
    "\n",
    "# print(X_train.isnull().sum())\n",
    "# print(X_train.describe())\n",
    "# print(X_train.describe(include = 'object'))\n",
    "# print(X_test.describe())\n",
    "# print(X_test.describe(include = 'object'))\n",
    "\n",
    "# label 값 확인\n",
    "print(y_train['gender'].value_counts())\n",
    "\n",
    "# 데이터 전처리\n",
    "X_train = X_train.fillna(0)\n",
    "X_test = X_test.fillna(0)\n",
    "\n",
    "X_train = X_train.drop(['cust_id'],axis = 1)\n",
    "cust_id = X_test.pop('cust_id')\n",
    "\n",
    "# feature 엔지니어링\n",
    "from sklearn.preprocessing import LabelEncoder\n",
    "cols = ['주구매상품','주구매지점']\n",
    "for col in cols:\n",
    "    le = LabelEncoder()\n",
    "    X_train[col] = le.fit_transform(X_train[col])\n",
    "    X_test[col] = le.transform(X_test[col])\n",
    "\n",
    "# 모델링 & 하이퍼파라미터 튜닝\n",
    "from sklearn.ensemble import RandomForestClassifier\n",
    "model = RandomForestClassifier(n_estimators = 100, max_depth = 5, random_state = 42)\n",
    "model.fit(X_train,y_train['gender'])\n",
    "print(model.score(X_train,y_train['gender']))\n",
    "\n",
    "pred = model.predict_proba(X_test)\n",
    "output = pd.DataFrame({'cust_id':cust_id, 'gender':pred[:,1]})\n",
    "output.to_csv(\"20220618.csv\",index = False)"
   ]
  },
  {
   "cell_type": "code",
   "execution_count": 7,
   "id": "337253f2",
   "metadata": {},
   "outputs": [
    {
     "name": "stdout",
     "output_type": "stream",
     "text": [
      "0.8230475951064186\n"
     ]
    }
   ],
   "source": [
    "# sol.3\n",
    "# ROC/AUC 높은 코드\n",
    "# 데이터 파일 읽기 예제\n",
    "import pandas as pd\n",
    "X_test = pd.read_csv(\"data/X_test.csv\",encoding = 'cp949')\n",
    "X_train = pd.read_csv(\"data/X_train.csv\",encoding = 'cp949')\n",
    "y_train = pd.read_csv(\"data/y_train.csv\")\n",
    "\n",
    "# train 데이터셋 하나로 병합 \n",
    "train = pd.merge(X_train, y_train, on = 'cust_id')\n",
    "\n",
    "# train 데이터셋 결측치 처리 및 이상치 변환, 파생변수 생성 \n",
    "train = train.fillna(0)\n",
    "train.loc[train['총구매액'] < 0, '총구매액'] = 0\n",
    "train.loc[train['최대구매액'] < 0, '최대구매액'] = 0\n",
    "train['최초구매액'] = train['총구매액'] + train['환불금액']\n",
    "train['최대구매액비율'] = train['최대구매액']/train['최초구매액']\n",
    "train['환불금액비율'] = train['환불금액']/train['최초구매액']\n",
    "\n",
    "# test 데이터셋 결측치 처리 및 이상치 변환, 파생변수 생성 \n",
    "X_test = X_test.fillna(0)\n",
    "X_test.loc[X_test['총구매액'] < 0, '총구매액'] = 0\n",
    "X_test.loc[X_test['최대구매액'] < 0, '최대구매액'] = 0\n",
    "X_test['최초구매액'] = X_test['총구매액'] + X_test['환불금액']\n",
    "X_test['최대구매액비율'] = X_test['최대구매액']/X_test['최초구매액']\n",
    "X_test['환불금액비율'] = X_test['환불금액']/X_test['최초구매액']\n",
    "\n",
    "# gender 열 데이터 불균형 확인\n",
    "g_zero = train.loc[train['gender'] == 0, ['cust_id']].count()[0]\n",
    "g_one = train.loc[train['gender'] == 1, ['cust_id']].count()[0]\n",
    "\n",
    "# 데이터 불균형 차이 저장\n",
    "diff = g_zero - g_one \n",
    "\n",
    "# train 데이터셋에서 gender가 1인 대상만 별도 데이터셋 구성\n",
    "train_one = train.loc[train['gender'] == 1]\n",
    "\n",
    "# 데이터 불균형 차이 만큼 비복원 랜덤 샘플링해서 별도 데이터셋 구성\n",
    "train_one_rs = train_one.sample(n=diff, random_state = 7)\n",
    "\n",
    "# 랜덤 샘플링한 대상과 기존 train 데이터셋을 행을 기준으로 합침\n",
    "# 랜덤 오버샘플링\n",
    "train_os = pd.concat([train, train_one_rs])\n",
    "\n",
    "# 문자 타입 변수 제외 별도 데이터셋(다차원배열 타입) 구축\n",
    "tr_x = train_os.iloc[:,[1,2,3,6,7,8,9,11,12,13]].values\n",
    "tr_y = train_os.iloc[:,10].values\n",
    "te_x = X_test.iloc[:,[1,2,3,6,7,8,9,10,11,12]].values\n",
    "\n",
    "# Standard Scaling을 위한 함수 불러오기 및 스케일러 생성\n",
    "from sklearn.preprocessing import StandardScaler\n",
    "ss = StandardScaler().fit(tr_x)\n",
    "\n",
    "# train 데이터셋 Standard Scaling 실시\n",
    "tr_x_ss = ss.transform(tr_x)\n",
    "\n",
    "# test 데이터셋 Standard Scaling 실시\n",
    "te_x_ss = ss.transform(te_x)\n",
    "\n",
    "# test 데이터셋 학습 및 검증용으로 8:2 분할\n",
    "from sklearn.model_selection import train_test_split\n",
    "x_tr, x_val, y_tr, y_val = train_test_split(tr_x_ss, tr_y, test_size=0.2, random_state = 7)\n",
    "\n",
    "# 랜덤 포레스트 함수 불러오기 및 학습실시\n",
    "from sklearn.ensemble import RandomForestClassifier\n",
    "model_rf = RandomForestClassifier().fit(x_tr, y_tr)\n",
    "\n",
    "# 램덤 포레스트 함수 이용 train 검증용 데이터셋 예측값 생성\n",
    "y_val_pred = model_rf.predict(x_val)\n",
    "\n",
    "# 램덤 포레스트 함수 이용 train 검증용 데이터셋 예측확률 생성\n",
    "y_val_prob = model_rf.predict_proba(x_val)\n",
    "\n",
    "# 예측확률에서 필요한 값만 가져오기\n",
    "y_val_prob = y_val_prob[:,1]\n",
    "\n",
    "# auc 출력을 위해 roc_curve 함수 불러오기 및 값 생성\n",
    "from sklearn.metrics import roc_curve\n",
    "fpr, tpr, thresholds = roc_curve(y_val, y_val_prob)\n",
    "\n",
    "# auc 출력\n",
    "from sklearn.metrics import auc\n",
    "print(auc(fpr, tpr))\n",
    "\n",
    "# 램덤 포레스트 함수 이용 test 데이터셋 예측값 생성 및 데이터프레임 변환\n",
    "te_y_pred = model_rf.predict(te_x_ss)\n",
    "gender = pd.DataFrame(te_y_pred, columns = ['gender'])\n",
    "\n",
    "# 기존 X_test 데이터셋의 cust_id와 생성된 예측값을 합친 데이터프레임 생성\n",
    "result = pd.concat([X_test.cust_id, gender], axis = 1)\n",
    "\n",
    "# csv 파일 저장\n",
    "pd.DataFrame(result).to_csv('003000000.csv', index=False)"
   ]
  }
 ],
 "metadata": {
  "kernelspec": {
   "display_name": "Python 3",
   "language": "python",
   "name": "python3"
  },
  "language_info": {
   "codemirror_mode": {
    "name": "ipython",
    "version": 3
   },
   "file_extension": ".py",
   "mimetype": "text/x-python",
   "name": "python",
   "nbconvert_exporter": "python",
   "pygments_lexer": "ipython3",
   "version": "3.8.8"
  }
 },
 "nbformat": 4,
 "nbformat_minor": 5
}
