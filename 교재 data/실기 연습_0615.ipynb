{
 "cells": [
  {
   "cell_type": "code",
   "execution_count": 1,
   "id": "569091f0",
   "metadata": {},
   "outputs": [
    {
     "data": {
      "text/html": [
       "<div>\n",
       "<style scoped>\n",
       "    .dataframe tbody tr th:only-of-type {\n",
       "        vertical-align: middle;\n",
       "    }\n",
       "\n",
       "    .dataframe tbody tr th {\n",
       "        vertical-align: top;\n",
       "    }\n",
       "\n",
       "    .dataframe thead th {\n",
       "        text-align: right;\n",
       "    }\n",
       "</style>\n",
       "<table border=\"1\" class=\"dataframe\">\n",
       "  <thead>\n",
       "    <tr style=\"text-align: right;\">\n",
       "      <th></th>\n",
       "      <th>housing_age</th>\n",
       "      <th>income</th>\n",
       "      <th>bedrooms</th>\n",
       "      <th>households</th>\n",
       "      <th>rooms</th>\n",
       "      <th>house_value</th>\n",
       "    </tr>\n",
       "  </thead>\n",
       "  <tbody>\n",
       "    <tr>\n",
       "      <th>0</th>\n",
       "      <td>23</td>\n",
       "      <td>6.7770</td>\n",
       "      <td>0.141112</td>\n",
       "      <td>2.442244</td>\n",
       "      <td>8.103960</td>\n",
       "      <td>500000</td>\n",
       "    </tr>\n",
       "    <tr>\n",
       "      <th>1</th>\n",
       "      <td>49</td>\n",
       "      <td>6.0199</td>\n",
       "      <td>0.160984</td>\n",
       "      <td>2.726688</td>\n",
       "      <td>5.752412</td>\n",
       "      <td>500000</td>\n",
       "    </tr>\n",
       "    <tr>\n",
       "      <th>2</th>\n",
       "      <td>35</td>\n",
       "      <td>5.1155</td>\n",
       "      <td>0.249061</td>\n",
       "      <td>1.902676</td>\n",
       "      <td>3.888078</td>\n",
       "      <td>500000</td>\n",
       "    </tr>\n",
       "    <tr>\n",
       "      <th>3</th>\n",
       "      <td>32</td>\n",
       "      <td>4.7109</td>\n",
       "      <td>0.231383</td>\n",
       "      <td>1.913669</td>\n",
       "      <td>4.508393</td>\n",
       "      <td>500000</td>\n",
       "    </tr>\n",
       "    <tr>\n",
       "      <th>4</th>\n",
       "      <td>21</td>\n",
       "      <td>4.5625</td>\n",
       "      <td>0.255583</td>\n",
       "      <td>3.092664</td>\n",
       "      <td>4.667954</td>\n",
       "      <td>500000</td>\n",
       "    </tr>\n",
       "    <tr>\n",
       "      <th>...</th>\n",
       "      <td>...</td>\n",
       "      <td>...</td>\n",
       "      <td>...</td>\n",
       "      <td>...</td>\n",
       "      <td>...</td>\n",
       "      <td>...</td>\n",
       "    </tr>\n",
       "    <tr>\n",
       "      <th>17909</th>\n",
       "      <td>33</td>\n",
       "      <td>2.6750</td>\n",
       "      <td>0.246622</td>\n",
       "      <td>3.428571</td>\n",
       "      <td>4.698413</td>\n",
       "      <td>22500</td>\n",
       "    </tr>\n",
       "    <tr>\n",
       "      <th>17910</th>\n",
       "      <td>39</td>\n",
       "      <td>2.3667</td>\n",
       "      <td>0.340771</td>\n",
       "      <td>1.876812</td>\n",
       "      <td>3.572464</td>\n",
       "      <td>17500</td>\n",
       "    </tr>\n",
       "    <tr>\n",
       "      <th>17911</th>\n",
       "      <td>19</td>\n",
       "      <td>2.1000</td>\n",
       "      <td>0.386107</td>\n",
       "      <td>2.987805</td>\n",
       "      <td>3.774390</td>\n",
       "      <td>14999</td>\n",
       "    </tr>\n",
       "    <tr>\n",
       "      <th>17912</th>\n",
       "      <td>16</td>\n",
       "      <td>1.6607</td>\n",
       "      <td>0.286275</td>\n",
       "      <td>2.236842</td>\n",
       "      <td>6.710526</td>\n",
       "      <td>14999</td>\n",
       "    </tr>\n",
       "    <tr>\n",
       "      <th>17913</th>\n",
       "      <td>36</td>\n",
       "      <td>0.5360</td>\n",
       "      <td>0.285714</td>\n",
       "      <td>2.250000</td>\n",
       "      <td>12.250000</td>\n",
       "      <td>14999</td>\n",
       "    </tr>\n",
       "  </tbody>\n",
       "</table>\n",
       "<p>17914 rows × 6 columns</p>\n",
       "</div>"
      ],
      "text/plain": [
       "       housing_age  income  bedrooms  households      rooms  house_value\n",
       "0               23  6.7770  0.141112    2.442244   8.103960       500000\n",
       "1               49  6.0199  0.160984    2.726688   5.752412       500000\n",
       "2               35  5.1155  0.249061    1.902676   3.888078       500000\n",
       "3               32  4.7109  0.231383    1.913669   4.508393       500000\n",
       "4               21  4.5625  0.255583    3.092664   4.667954       500000\n",
       "...            ...     ...       ...         ...        ...          ...\n",
       "17909           33  2.6750  0.246622    3.428571   4.698413        22500\n",
       "17910           39  2.3667  0.340771    1.876812   3.572464        17500\n",
       "17911           19  2.1000  0.386107    2.987805   3.774390        14999\n",
       "17912           16  1.6607  0.286275    2.236842   6.710526        14999\n",
       "17913           36  0.5360  0.285714    2.250000  12.250000        14999\n",
       "\n",
       "[17914 rows x 6 columns]"
      ]
     },
     "execution_count": 1,
     "metadata": {},
     "output_type": "execute_result"
    }
   ],
   "source": [
    "import pandas as pd\n",
    "df = pd.read_csv('house_raw.csv')\n",
    "df"
   ]
  },
  {
   "cell_type": "code",
   "execution_count": 2,
   "id": "34588861",
   "metadata": {},
   "outputs": [
    {
     "data": {
      "text/html": [
       "<div>\n",
       "<style scoped>\n",
       "    .dataframe tbody tr th:only-of-type {\n",
       "        vertical-align: middle;\n",
       "    }\n",
       "\n",
       "    .dataframe tbody tr th {\n",
       "        vertical-align: top;\n",
       "    }\n",
       "\n",
       "    .dataframe thead th {\n",
       "        text-align: right;\n",
       "    }\n",
       "</style>\n",
       "<table border=\"1\" class=\"dataframe\">\n",
       "  <thead>\n",
       "    <tr style=\"text-align: right;\">\n",
       "      <th></th>\n",
       "      <th>housing_age</th>\n",
       "      <th>income</th>\n",
       "      <th>bedrooms</th>\n",
       "      <th>households</th>\n",
       "      <th>rooms</th>\n",
       "      <th>house_value</th>\n",
       "    </tr>\n",
       "  </thead>\n",
       "  <tbody>\n",
       "    <tr>\n",
       "      <th>count</th>\n",
       "      <td>17914.000000</td>\n",
       "      <td>17914.000000</td>\n",
       "      <td>17914.000000</td>\n",
       "      <td>17914.000000</td>\n",
       "      <td>17914.000000</td>\n",
       "      <td>17914.000000</td>\n",
       "    </tr>\n",
       "    <tr>\n",
       "      <th>mean</th>\n",
       "      <td>27.307022</td>\n",
       "      <td>3.664086</td>\n",
       "      <td>0.214309</td>\n",
       "      <td>3.007667</td>\n",
       "      <td>5.370672</td>\n",
       "      <td>188692.620130</td>\n",
       "    </tr>\n",
       "    <tr>\n",
       "      <th>std</th>\n",
       "      <td>11.297204</td>\n",
       "      <td>1.526694</td>\n",
       "      <td>0.055251</td>\n",
       "      <td>4.579534</td>\n",
       "      <td>2.332776</td>\n",
       "      <td>95318.621139</td>\n",
       "    </tr>\n",
       "    <tr>\n",
       "      <th>min</th>\n",
       "      <td>1.000000</td>\n",
       "      <td>0.499900</td>\n",
       "      <td>0.100000</td>\n",
       "      <td>0.692308</td>\n",
       "      <td>0.846154</td>\n",
       "      <td>14999.000000</td>\n",
       "    </tr>\n",
       "    <tr>\n",
       "      <th>25%</th>\n",
       "      <td>18.000000</td>\n",
       "      <td>2.526125</td>\n",
       "      <td>0.177544</td>\n",
       "      <td>2.467031</td>\n",
       "      <td>4.426115</td>\n",
       "      <td>114325.000000</td>\n",
       "    </tr>\n",
       "    <tr>\n",
       "      <th>50%</th>\n",
       "      <td>28.000000</td>\n",
       "      <td>3.447800</td>\n",
       "      <td>0.204256</td>\n",
       "      <td>2.853499</td>\n",
       "      <td>5.199222</td>\n",
       "      <td>170800.000000</td>\n",
       "    </tr>\n",
       "    <tr>\n",
       "      <th>75%</th>\n",
       "      <td>36.000000</td>\n",
       "      <td>4.583300</td>\n",
       "      <td>0.240476</td>\n",
       "      <td>3.318866</td>\n",
       "      <td>5.970848</td>\n",
       "      <td>242100.000000</td>\n",
       "    </tr>\n",
       "    <tr>\n",
       "      <th>max</th>\n",
       "      <td>51.000000</td>\n",
       "      <td>9.905500</td>\n",
       "      <td>1.000000</td>\n",
       "      <td>599.714286</td>\n",
       "      <td>132.533333</td>\n",
       "      <td>500000.000000</td>\n",
       "    </tr>\n",
       "  </tbody>\n",
       "</table>\n",
       "</div>"
      ],
      "text/plain": [
       "        housing_age        income      bedrooms    households         rooms  \\\n",
       "count  17914.000000  17914.000000  17914.000000  17914.000000  17914.000000   \n",
       "mean      27.307022      3.664086      0.214309      3.007667      5.370672   \n",
       "std       11.297204      1.526694      0.055251      4.579534      2.332776   \n",
       "min        1.000000      0.499900      0.100000      0.692308      0.846154   \n",
       "25%       18.000000      2.526125      0.177544      2.467031      4.426115   \n",
       "50%       28.000000      3.447800      0.204256      2.853499      5.199222   \n",
       "75%       36.000000      4.583300      0.240476      3.318866      5.970848   \n",
       "max       51.000000      9.905500      1.000000    599.714286    132.533333   \n",
       "\n",
       "         house_value  \n",
       "count   17914.000000  \n",
       "mean   188692.620130  \n",
       "std     95318.621139  \n",
       "min     14999.000000  \n",
       "25%    114325.000000  \n",
       "50%    170800.000000  \n",
       "75%    242100.000000  \n",
       "max    500000.000000  "
      ]
     },
     "execution_count": 2,
     "metadata": {},
     "output_type": "execute_result"
    }
   ],
   "source": [
    "df.describe()"
   ]
  },
  {
   "cell_type": "code",
   "execution_count": 3,
   "id": "5521e8cb",
   "metadata": {},
   "outputs": [
    {
     "data": {
      "text/plain": [
       "array([[<AxesSubplot:title={'center':'housing_age'}>,\n",
       "        <AxesSubplot:title={'center':'income'}>],\n",
       "       [<AxesSubplot:title={'center':'bedrooms'}>,\n",
       "        <AxesSubplot:title={'center':'households'}>],\n",
       "       [<AxesSubplot:title={'center':'rooms'}>,\n",
       "        <AxesSubplot:title={'center':'house_value'}>]], dtype=object)"
      ]
     },
     "execution_count": 3,
     "metadata": {},
     "output_type": "execute_result"
    },
    {
     "data": {
      "image/png": "[encoded data removed]",
      "text/plain": [
       "<Figure size 1440x1080 with 6 Axes>"
      ]
     },
     "metadata": {
      "needs_background": "light"
     },
     "output_type": "display_data"
    }
   ],
   "source": [
    "df.hist(bins = 50, figsize = (20,15))"
   ]
  },
  {
   "cell_type": "code",
   "execution_count": 7,
   "id": "c1638c58",
   "metadata": {},
   "outputs": [],
   "source": [
    "# 데이터 셋 나누기\n",
    "X = df[df.columns[0:5]]\n",
    "y = df[['house_value']]"
   ]
  },
  {
   "cell_type": "code",
   "execution_count": 11,
   "id": "49239917",
   "metadata": {},
   "outputs": [],
   "source": [
    "# train 데이터와 test 데이터 구분\n",
    "from sklearn.model_selection import train_test_split\n",
    "X_train, X_test, y_train, y_test = train_test_split(X,y,test_size = 0.3,random_state = 42)"
   ]
  },
  {
   "cell_type": "code",
   "execution_count": 13,
   "id": "5d321e23",
   "metadata": {},
   "outputs": [
    {
     "name": "stdout",
     "output_type": "stream",
     "text": [
      "12539 5375 12539 5375\n"
     ]
    }
   ],
   "source": [
    "print(len(X_train),len(X_test),len(y_train),len(y_test))"
   ]
  },
  {
   "cell_type": "code",
   "execution_count": 14,
   "id": "ee1743af",
   "metadata": {},
   "outputs": [],
   "source": [
    "# MinMax 정규화\n",
    "from sklearn.preprocessing import MinMaxScaler\n",
    "scaler = MinMaxScaler()\n",
    "\n",
    "# train 데이터, test 데이터 정규화\n",
    "scaler.fit(X_train)\n",
    "X_scaled_train = scaler.transform(X_train)\n",
    "X_scaled_test = scaler.transform(X_test)"
   ]
  },
  {
   "cell_type": "code",
   "execution_count": 15,
   "id": "2e971fc6",
   "metadata": {},
   "outputs": [
    {
     "data": {
      "text/plain": [
       "LinearRegression()"
      ]
     },
     "execution_count": 15,
     "metadata": {},
     "output_type": "execute_result"
    }
   ],
   "source": [
    "# 선형 모델 적용\n",
    "from sklearn.linear_model import LinearRegression\n",
    "model = LinearRegression()\n",
    "model.fit(X_scaled_train, y_train)"
   ]
  },
  {
   "cell_type": "code",
   "execution_count": 16,
   "id": "5f32e441",
   "metadata": {},
   "outputs": [
    {
     "data": {
      "text/plain": [
       "0.545557690316894"
      ]
     },
     "execution_count": 16,
     "metadata": {},
     "output_type": "execute_result"
    }
   ],
   "source": [
    "# train 데이터 정확도\n",
    "pred_train = model.predict(X_scaled_train)\n",
    "model.score(X_scaled_train, y_train)"
   ]
  },
  {
   "cell_type": "code",
   "execution_count": 17,
   "id": "1a80ee76",
   "metadata": {},
   "outputs": [
    {
     "data": {
      "text/plain": [
       "-2.1274765745665087"
      ]
     },
     "execution_count": 17,
     "metadata": {},
     "output_type": "execute_result"
    }
   ],
   "source": [
    "# test 데이터 정확도\n",
    "pred_test = model.predict(X_scaled_test)\n",
    "model.score(X_scaled_test, y_test)"
   ]
  },
  {
   "cell_type": "code",
   "execution_count": 21,
   "id": "b0efb45e",
   "metadata": {},
   "outputs": [
    {
     "data": {
      "text/html": [
       "<div>\n",
       "<style scoped>\n",
       "    .dataframe tbody tr th:only-of-type {\n",
       "        vertical-align: middle;\n",
       "    }\n",
       "\n",
       "    .dataframe tbody tr th {\n",
       "        vertical-align: top;\n",
       "    }\n",
       "\n",
       "    .dataframe thead th {\n",
       "        text-align: right;\n",
       "    }\n",
       "</style>\n",
       "<table border=\"1\" class=\"dataframe\">\n",
       "  <thead>\n",
       "    <tr style=\"text-align: right;\">\n",
       "      <th></th>\n",
       "      <th>housing_age</th>\n",
       "      <th>income</th>\n",
       "      <th>bedrooms</th>\n",
       "      <th>households</th>\n",
       "      <th>rooms</th>\n",
       "      <th>house_value</th>\n",
       "    </tr>\n",
       "  </thead>\n",
       "  <tbody>\n",
       "    <tr>\n",
       "      <th>count</th>\n",
       "      <td>17689.000000</td>\n",
       "      <td>17689.000000</td>\n",
       "      <td>17689.000000</td>\n",
       "      <td>17689.000000</td>\n",
       "      <td>17689.000000</td>\n",
       "      <td>17689.000000</td>\n",
       "    </tr>\n",
       "    <tr>\n",
       "      <th>mean</th>\n",
       "      <td>27.378823</td>\n",
       "      <td>3.671141</td>\n",
       "      <td>0.213278</td>\n",
       "      <td>2.952117</td>\n",
       "      <td>5.244001</td>\n",
       "      <td>189043.439313</td>\n",
       "    </tr>\n",
       "    <tr>\n",
       "      <th>std</th>\n",
       "      <td>11.280230</td>\n",
       "      <td>1.525937</td>\n",
       "      <td>0.051167</td>\n",
       "      <td>0.731573</td>\n",
       "      <td>1.184922</td>\n",
       "      <td>95487.122628</td>\n",
       "    </tr>\n",
       "    <tr>\n",
       "      <th>min</th>\n",
       "      <td>1.000000</td>\n",
       "      <td>0.499900</td>\n",
       "      <td>0.100000</td>\n",
       "      <td>0.750000</td>\n",
       "      <td>1.640000</td>\n",
       "      <td>14999.000000</td>\n",
       "    </tr>\n",
       "    <tr>\n",
       "      <th>25%</th>\n",
       "      <td>18.000000</td>\n",
       "      <td>2.532900</td>\n",
       "      <td>0.177464</td>\n",
       "      <td>2.470270</td>\n",
       "      <td>4.426829</td>\n",
       "      <td>114400.000000</td>\n",
       "    </tr>\n",
       "    <tr>\n",
       "      <th>50%</th>\n",
       "      <td>28.000000</td>\n",
       "      <td>3.453900</td>\n",
       "      <td>0.204104</td>\n",
       "      <td>2.854962</td>\n",
       "      <td>5.190779</td>\n",
       "      <td>171100.000000</td>\n",
       "    </tr>\n",
       "    <tr>\n",
       "      <th>75%</th>\n",
       "      <td>36.000000</td>\n",
       "      <td>4.591800</td>\n",
       "      <td>0.240157</td>\n",
       "      <td>3.316092</td>\n",
       "      <td>5.953728</td>\n",
       "      <td>242700.000000</td>\n",
       "    </tr>\n",
       "    <tr>\n",
       "      <th>max</th>\n",
       "      <td>51.000000</td>\n",
       "      <td>9.905500</td>\n",
       "      <td>0.498127</td>\n",
       "      <td>6.954023</td>\n",
       "      <td>11.901869</td>\n",
       "      <td>500000.000000</td>\n",
       "    </tr>\n",
       "  </tbody>\n",
       "</table>\n",
       "</div>"
      ],
      "text/plain": [
       "        housing_age        income      bedrooms    households         rooms  \\\n",
       "count  17689.000000  17689.000000  17689.000000  17689.000000  17689.000000   \n",
       "mean      27.378823      3.671141      0.213278      2.952117      5.244001   \n",
       "std       11.280230      1.525937      0.051167      0.731573      1.184922   \n",
       "min        1.000000      0.499900      0.100000      0.750000      1.640000   \n",
       "25%       18.000000      2.532900      0.177464      2.470270      4.426829   \n",
       "50%       28.000000      3.453900      0.204104      2.854962      5.190779   \n",
       "75%       36.000000      4.591800      0.240157      3.316092      5.953728   \n",
       "max       51.000000      9.905500      0.498127      6.954023     11.901869   \n",
       "\n",
       "         house_value  \n",
       "count   17689.000000  \n",
       "mean   189043.439313  \n",
       "std     95487.122628  \n",
       "min     14999.000000  \n",
       "25%    114400.000000  \n",
       "50%    171100.000000  \n",
       "75%    242700.000000  \n",
       "max    500000.000000  "
      ]
     },
     "execution_count": 21,
     "metadata": {},
     "output_type": "execute_result"
    }
   ],
   "source": [
    "new_data = df[(df['bedrooms'] < 0.5) & (df['households'] < 7) & (df['rooms'] < 12)]\n",
    "new_data.describe()"
   ]
  },
  {
   "cell_type": "code",
   "execution_count": 23,
   "id": "4d2ae52c",
   "metadata": {},
   "outputs": [
    {
     "name": "stdout",
     "output_type": "stream",
     "text": [
      "훈련데이터 정확도 0.5684198811763517\n",
      "테스트데이터 정확도 0.5859636549220006\n"
     ]
    }
   ],
   "source": [
    "# 특성데이터셋, 레이블 데이터셋 나누기\n",
    "X = new_data[new_data.columns[0:5]]\n",
    "y = new_data[[\"house_value\"]]\n",
    "\n",
    "# 학습용 데이터(train)와 테스트용 데이터(test) 구분을 위한 라이브러리 불러오기\n",
    "from sklearn.model_selection import train_test_split\n",
    "X_train, X_test, y_train, y_test=train_test_split(X, y, random_state=42, test_size = 0.3)\n",
    "\n",
    "# 데이터 정규화(min-max)\n",
    "from sklearn.preprocessing import MinMaxScaler\n",
    "scaler = MinMaxScaler()\n",
    "\n",
    "# 훈련데이터 및 데스트데이터 정규화\n",
    "scaler.fit(X_train)\n",
    "X_scaled_train=scaler.transform(X_train)\n",
    "X_scaled_test=scaler.transform(X_test)\n",
    "\n",
    "# 선형 모델 적용\n",
    "from sklearn.linear_model import LinearRegression\n",
    "model = LinearRegression()\n",
    "model.fit(X_scaled_train, y_train)\n",
    "\n",
    "# 훈련데이터의 정확도(R-square: 설명력) 확인\n",
    "pred_train = model.predict(X_scaled_train)\n",
    "print(\"훈련데이터 정확도\", model.score(X_scaled_train, y_train))\n",
    "\n",
    "# 테스트데이터의 정확도(R-square: 설명력) 확인\n",
    "pred_test=model.predict(X_scaled_test)\n",
    "print(\"테스트데이터 정확도\", model.score(X_scaled_test, y_test))"
   ]
  }
 ],
 "metadata": {
  "kernelspec": {
   "display_name": "Python 3",
   "language": "python",
   "name": "python3"
  },
  "language_info": {
   "codemirror_mode": {
    "name": "ipython",
    "version": 3
   },
   "file_extension": ".py",
   "mimetype": "text/x-python",
   "name": "python",
   "nbconvert_exporter": "python",
   "pygments_lexer": "ipython3",
   "version": "3.8.8"
  }
 },
 "nbformat": 4,
 "nbformat_minor": 5
}
